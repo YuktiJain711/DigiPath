{
  "nbformat": 4,
  "nbformat_minor": 0,
  "metadata": {
    "colab": {
      "provenance": [],
      "gpuType": "T4"
    },
    "kernelspec": {
      "name": "python3",
      "display_name": "Python 3"
    },
    "language_info": {
      "name": "python"
    },
    "accelerator": "GPU",
    "widgets": {
      "application/vnd.jupyter.widget-state+json": {
        "6e0a2ba162264829a880cba5d58c0fb4": {
          "model_module": "@jupyter-widgets/controls",
          "model_name": "HBoxModel",
          "model_module_version": "1.5.0",
          "state": {
            "_dom_classes": [],
            "_model_module": "@jupyter-widgets/controls",
            "_model_module_version": "1.5.0",
            "_model_name": "HBoxModel",
            "_view_count": null,
            "_view_module": "@jupyter-widgets/controls",
            "_view_module_version": "1.5.0",
            "_view_name": "HBoxView",
            "box_style": "",
            "children": [
              "IPY_MODEL_547f4c8d086c4fad84c2690be74b87db",
              "IPY_MODEL_ac17012f2a2c4731b770730a517bcd15",
              "IPY_MODEL_2eff1d519c664151927859eecf682784"
            ],
            "layout": "IPY_MODEL_28a593a7280641db9bdb11bdb9da9385"
          }
        },
        "547f4c8d086c4fad84c2690be74b87db": {
          "model_module": "@jupyter-widgets/controls",
          "model_name": "HTMLModel",
          "model_module_version": "1.5.0",
          "state": {
            "_dom_classes": [],
            "_model_module": "@jupyter-widgets/controls",
            "_model_module_version": "1.5.0",
            "_model_name": "HTMLModel",
            "_view_count": null,
            "_view_module": "@jupyter-widgets/controls",
            "_view_module_version": "1.5.0",
            "_view_name": "HTMLView",
            "description": "",
            "description_tooltip": null,
            "layout": "IPY_MODEL_40dfa01cad1142aba3ae30b562a4928f",
            "placeholder": "​",
            "style": "IPY_MODEL_5d98933648cf4a96a2330580e17d6641",
            "value": "Downloading (…)lve/main/config.json: 100%"
          }
        },
        "ac17012f2a2c4731b770730a517bcd15": {
          "model_module": "@jupyter-widgets/controls",
          "model_name": "FloatProgressModel",
          "model_module_version": "1.5.0",
          "state": {
            "_dom_classes": [],
            "_model_module": "@jupyter-widgets/controls",
            "_model_module_version": "1.5.0",
            "_model_name": "FloatProgressModel",
            "_view_count": null,
            "_view_module": "@jupyter-widgets/controls",
            "_view_module_version": "1.5.0",
            "_view_name": "ProgressView",
            "bar_style": "success",
            "description": "",
            "description_tooltip": null,
            "layout": "IPY_MODEL_6495c9779c7f41afb542c4f1d9ef5b2a",
            "max": 70045,
            "min": 0,
            "orientation": "horizontal",
            "style": "IPY_MODEL_603738a154f546ec8eda8b85bb821db6",
            "value": 70045
          }
        },
        "2eff1d519c664151927859eecf682784": {
          "model_module": "@jupyter-widgets/controls",
          "model_name": "HTMLModel",
          "model_module_version": "1.5.0",
          "state": {
            "_dom_classes": [],
            "_model_module": "@jupyter-widgets/controls",
            "_model_module_version": "1.5.0",
            "_model_name": "HTMLModel",
            "_view_count": null,
            "_view_module": "@jupyter-widgets/controls",
            "_view_module_version": "1.5.0",
            "_view_name": "HTMLView",
            "description": "",
            "description_tooltip": null,
            "layout": "IPY_MODEL_9a73c8d57e1842debd14bcdc6b0e5af3",
            "placeholder": "​",
            "style": "IPY_MODEL_2ade50c9d5b546e2954155ad21de01a3",
            "value": " 70.0k/70.0k [00:00&lt;00:00, 2.22MB/s]"
          }
        },
        "28a593a7280641db9bdb11bdb9da9385": {
          "model_module": "@jupyter-widgets/base",
          "model_name": "LayoutModel",
          "model_module_version": "1.2.0",
          "state": {
            "_model_module": "@jupyter-widgets/base",
            "_model_module_version": "1.2.0",
            "_model_name": "LayoutModel",
            "_view_count": null,
            "_view_module": "@jupyter-widgets/base",
            "_view_module_version": "1.2.0",
            "_view_name": "LayoutView",
            "align_content": null,
            "align_items": null,
            "align_self": null,
            "border": null,
            "bottom": null,
            "display": null,
            "flex": null,
            "flex_flow": null,
            "grid_area": null,
            "grid_auto_columns": null,
            "grid_auto_flow": null,
            "grid_auto_rows": null,
            "grid_column": null,
            "grid_gap": null,
            "grid_row": null,
            "grid_template_areas": null,
            "grid_template_columns": null,
            "grid_template_rows": null,
            "height": null,
            "justify_content": null,
            "justify_items": null,
            "left": null,
            "margin": null,
            "max_height": null,
            "max_width": null,
            "min_height": null,
            "min_width": null,
            "object_fit": null,
            "object_position": null,
            "order": null,
            "overflow": null,
            "overflow_x": null,
            "overflow_y": null,
            "padding": null,
            "right": null,
            "top": null,
            "visibility": null,
            "width": null
          }
        },
        "40dfa01cad1142aba3ae30b562a4928f": {
          "model_module": "@jupyter-widgets/base",
          "model_name": "LayoutModel",
          "model_module_version": "1.2.0",
          "state": {
            "_model_module": "@jupyter-widgets/base",
            "_model_module_version": "1.2.0",
            "_model_name": "LayoutModel",
            "_view_count": null,
            "_view_module": "@jupyter-widgets/base",
            "_view_module_version": "1.2.0",
            "_view_name": "LayoutView",
            "align_content": null,
            "align_items": null,
            "align_self": null,
            "border": null,
            "bottom": null,
            "display": null,
            "flex": null,
            "flex_flow": null,
            "grid_area": null,
            "grid_auto_columns": null,
            "grid_auto_flow": null,
            "grid_auto_rows": null,
            "grid_column": null,
            "grid_gap": null,
            "grid_row": null,
            "grid_template_areas": null,
            "grid_template_columns": null,
            "grid_template_rows": null,
            "height": null,
            "justify_content": null,
            "justify_items": null,
            "left": null,
            "margin": null,
            "max_height": null,
            "max_width": null,
            "min_height": null,
            "min_width": null,
            "object_fit": null,
            "object_position": null,
            "order": null,
            "overflow": null,
            "overflow_x": null,
            "overflow_y": null,
            "padding": null,
            "right": null,
            "top": null,
            "visibility": null,
            "width": null
          }
        },
        "5d98933648cf4a96a2330580e17d6641": {
          "model_module": "@jupyter-widgets/controls",
          "model_name": "DescriptionStyleModel",
          "model_module_version": "1.5.0",
          "state": {
            "_model_module": "@jupyter-widgets/controls",
            "_model_module_version": "1.5.0",
            "_model_name": "DescriptionStyleModel",
            "_view_count": null,
            "_view_module": "@jupyter-widgets/base",
            "_view_module_version": "1.2.0",
            "_view_name": "StyleView",
            "description_width": ""
          }
        },
        "6495c9779c7f41afb542c4f1d9ef5b2a": {
          "model_module": "@jupyter-widgets/base",
          "model_name": "LayoutModel",
          "model_module_version": "1.2.0",
          "state": {
            "_model_module": "@jupyter-widgets/base",
            "_model_module_version": "1.2.0",
            "_model_name": "LayoutModel",
            "_view_count": null,
            "_view_module": "@jupyter-widgets/base",
            "_view_module_version": "1.2.0",
            "_view_name": "LayoutView",
            "align_content": null,
            "align_items": null,
            "align_self": null,
            "border": null,
            "bottom": null,
            "display": null,
            "flex": null,
            "flex_flow": null,
            "grid_area": null,
            "grid_auto_columns": null,
            "grid_auto_flow": null,
            "grid_auto_rows": null,
            "grid_column": null,
            "grid_gap": null,
            "grid_row": null,
            "grid_template_areas": null,
            "grid_template_columns": null,
            "grid_template_rows": null,
            "height": null,
            "justify_content": null,
            "justify_items": null,
            "left": null,
            "margin": null,
            "max_height": null,
            "max_width": null,
            "min_height": null,
            "min_width": null,
            "object_fit": null,
            "object_position": null,
            "order": null,
            "overflow": null,
            "overflow_x": null,
            "overflow_y": null,
            "padding": null,
            "right": null,
            "top": null,
            "visibility": null,
            "width": null
          }
        },
        "603738a154f546ec8eda8b85bb821db6": {
          "model_module": "@jupyter-widgets/controls",
          "model_name": "ProgressStyleModel",
          "model_module_version": "1.5.0",
          "state": {
            "_model_module": "@jupyter-widgets/controls",
            "_model_module_version": "1.5.0",
            "_model_name": "ProgressStyleModel",
            "_view_count": null,
            "_view_module": "@jupyter-widgets/base",
            "_view_module_version": "1.2.0",
            "_view_name": "StyleView",
            "bar_color": null,
            "description_width": ""
          }
        },
        "9a73c8d57e1842debd14bcdc6b0e5af3": {
          "model_module": "@jupyter-widgets/base",
          "model_name": "LayoutModel",
          "model_module_version": "1.2.0",
          "state": {
            "_model_module": "@jupyter-widgets/base",
            "_model_module_version": "1.2.0",
            "_model_name": "LayoutModel",
            "_view_count": null,
            "_view_module": "@jupyter-widgets/base",
            "_view_module_version": "1.2.0",
            "_view_name": "LayoutView",
            "align_content": null,
            "align_items": null,
            "align_self": null,
            "border": null,
            "bottom": null,
            "display": null,
            "flex": null,
            "flex_flow": null,
            "grid_area": null,
            "grid_auto_columns": null,
            "grid_auto_flow": null,
            "grid_auto_rows": null,
            "grid_column": null,
            "grid_gap": null,
            "grid_row": null,
            "grid_template_areas": null,
            "grid_template_columns": null,
            "grid_template_rows": null,
            "height": null,
            "justify_content": null,
            "justify_items": null,
            "left": null,
            "margin": null,
            "max_height": null,
            "max_width": null,
            "min_height": null,
            "min_width": null,
            "object_fit": null,
            "object_position": null,
            "order": null,
            "overflow": null,
            "overflow_x": null,
            "overflow_y": null,
            "padding": null,
            "right": null,
            "top": null,
            "visibility": null,
            "width": null
          }
        },
        "2ade50c9d5b546e2954155ad21de01a3": {
          "model_module": "@jupyter-widgets/controls",
          "model_name": "DescriptionStyleModel",
          "model_module_version": "1.5.0",
          "state": {
            "_model_module": "@jupyter-widgets/controls",
            "_model_module_version": "1.5.0",
            "_model_name": "DescriptionStyleModel",
            "_view_count": null,
            "_view_module": "@jupyter-widgets/base",
            "_view_module_version": "1.2.0",
            "_view_name": "StyleView",
            "description_width": ""
          }
        },
        "0365b239708746ad9b72a6df51df9037": {
          "model_module": "@jupyter-widgets/controls",
          "model_name": "HBoxModel",
          "model_module_version": "1.5.0",
          "state": {
            "_dom_classes": [],
            "_model_module": "@jupyter-widgets/controls",
            "_model_module_version": "1.5.0",
            "_model_name": "HBoxModel",
            "_view_count": null,
            "_view_module": "@jupyter-widgets/controls",
            "_view_module_version": "1.5.0",
            "_view_name": "HBoxView",
            "box_style": "",
            "children": [
              "IPY_MODEL_3c96468dc5194334a66250c27527f43a",
              "IPY_MODEL_4cf53dc280b6456ab80547c115f9afbc",
              "IPY_MODEL_48d8b1e99b4e454d998fb481574c1992"
            ],
            "layout": "IPY_MODEL_337c1cca7cd24d4181b7f30162b17a2f"
          }
        },
        "3c96468dc5194334a66250c27527f43a": {
          "model_module": "@jupyter-widgets/controls",
          "model_name": "HTMLModel",
          "model_module_version": "1.5.0",
          "state": {
            "_dom_classes": [],
            "_model_module": "@jupyter-widgets/controls",
            "_model_module_version": "1.5.0",
            "_model_name": "HTMLModel",
            "_view_count": null,
            "_view_module": "@jupyter-widgets/controls",
            "_view_module_version": "1.5.0",
            "_view_name": "HTMLView",
            "description": "",
            "description_tooltip": null,
            "layout": "IPY_MODEL_1e1b4446a233455583dd335fb6ccbb39",
            "placeholder": "​",
            "style": "IPY_MODEL_c1a64245beb94ea99806c98358159863",
            "value": "Downloading pytorch_model.bin: 100%"
          }
        },
        "4cf53dc280b6456ab80547c115f9afbc": {
          "model_module": "@jupyter-widgets/controls",
          "model_name": "FloatProgressModel",
          "model_module_version": "1.5.0",
          "state": {
            "_dom_classes": [],
            "_model_module": "@jupyter-widgets/controls",
            "_model_module_version": "1.5.0",
            "_model_name": "FloatProgressModel",
            "_view_count": null,
            "_view_module": "@jupyter-widgets/controls",
            "_view_module_version": "1.5.0",
            "_view_name": "ProgressView",
            "bar_style": "success",
            "description": "",
            "description_tooltip": null,
            "layout": "IPY_MODEL_de4f945d91bd4758964c082c70d24881",
            "max": 328277459,
            "min": 0,
            "orientation": "horizontal",
            "style": "IPY_MODEL_33addcf4f7c14711a69e3a0a65b76584",
            "value": 328277459
          }
        },
        "48d8b1e99b4e454d998fb481574c1992": {
          "model_module": "@jupyter-widgets/controls",
          "model_name": "HTMLModel",
          "model_module_version": "1.5.0",
          "state": {
            "_dom_classes": [],
            "_model_module": "@jupyter-widgets/controls",
            "_model_module_version": "1.5.0",
            "_model_name": "HTMLModel",
            "_view_count": null,
            "_view_module": "@jupyter-widgets/controls",
            "_view_module_version": "1.5.0",
            "_view_name": "HTMLView",
            "description": "",
            "description_tooltip": null,
            "layout": "IPY_MODEL_7e908e2295ce407fa8be5ea3ab974843",
            "placeholder": "​",
            "style": "IPY_MODEL_5b7b17270c5c44e092dff13cf54154d6",
            "value": " 328M/328M [00:01&lt;00:00, 258MB/s]"
          }
        },
        "337c1cca7cd24d4181b7f30162b17a2f": {
          "model_module": "@jupyter-widgets/base",
          "model_name": "LayoutModel",
          "model_module_version": "1.2.0",
          "state": {
            "_model_module": "@jupyter-widgets/base",
            "_model_module_version": "1.2.0",
            "_model_name": "LayoutModel",
            "_view_count": null,
            "_view_module": "@jupyter-widgets/base",
            "_view_module_version": "1.2.0",
            "_view_name": "LayoutView",
            "align_content": null,
            "align_items": null,
            "align_self": null,
            "border": null,
            "bottom": null,
            "display": null,
            "flex": null,
            "flex_flow": null,
            "grid_area": null,
            "grid_auto_columns": null,
            "grid_auto_flow": null,
            "grid_auto_rows": null,
            "grid_column": null,
            "grid_gap": null,
            "grid_row": null,
            "grid_template_areas": null,
            "grid_template_columns": null,
            "grid_template_rows": null,
            "height": null,
            "justify_content": null,
            "justify_items": null,
            "left": null,
            "margin": null,
            "max_height": null,
            "max_width": null,
            "min_height": null,
            "min_width": null,
            "object_fit": null,
            "object_position": null,
            "order": null,
            "overflow": null,
            "overflow_x": null,
            "overflow_y": null,
            "padding": null,
            "right": null,
            "top": null,
            "visibility": null,
            "width": null
          }
        },
        "1e1b4446a233455583dd335fb6ccbb39": {
          "model_module": "@jupyter-widgets/base",
          "model_name": "LayoutModel",
          "model_module_version": "1.2.0",
          "state": {
            "_model_module": "@jupyter-widgets/base",
            "_model_module_version": "1.2.0",
            "_model_name": "LayoutModel",
            "_view_count": null,
            "_view_module": "@jupyter-widgets/base",
            "_view_module_version": "1.2.0",
            "_view_name": "LayoutView",
            "align_content": null,
            "align_items": null,
            "align_self": null,
            "border": null,
            "bottom": null,
            "display": null,
            "flex": null,
            "flex_flow": null,
            "grid_area": null,
            "grid_auto_columns": null,
            "grid_auto_flow": null,
            "grid_auto_rows": null,
            "grid_column": null,
            "grid_gap": null,
            "grid_row": null,
            "grid_template_areas": null,
            "grid_template_columns": null,
            "grid_template_rows": null,
            "height": null,
            "justify_content": null,
            "justify_items": null,
            "left": null,
            "margin": null,
            "max_height": null,
            "max_width": null,
            "min_height": null,
            "min_width": null,
            "object_fit": null,
            "object_position": null,
            "order": null,
            "overflow": null,
            "overflow_x": null,
            "overflow_y": null,
            "padding": null,
            "right": null,
            "top": null,
            "visibility": null,
            "width": null
          }
        },
        "c1a64245beb94ea99806c98358159863": {
          "model_module": "@jupyter-widgets/controls",
          "model_name": "DescriptionStyleModel",
          "model_module_version": "1.5.0",
          "state": {
            "_model_module": "@jupyter-widgets/controls",
            "_model_module_version": "1.5.0",
            "_model_name": "DescriptionStyleModel",
            "_view_count": null,
            "_view_module": "@jupyter-widgets/base",
            "_view_module_version": "1.2.0",
            "_view_name": "StyleView",
            "description_width": ""
          }
        },
        "de4f945d91bd4758964c082c70d24881": {
          "model_module": "@jupyter-widgets/base",
          "model_name": "LayoutModel",
          "model_module_version": "1.2.0",
          "state": {
            "_model_module": "@jupyter-widgets/base",
            "_model_module_version": "1.2.0",
            "_model_name": "LayoutModel",
            "_view_count": null,
            "_view_module": "@jupyter-widgets/base",
            "_view_module_version": "1.2.0",
            "_view_name": "LayoutView",
            "align_content": null,
            "align_items": null,
            "align_self": null,
            "border": null,
            "bottom": null,
            "display": null,
            "flex": null,
            "flex_flow": null,
            "grid_area": null,
            "grid_auto_columns": null,
            "grid_auto_flow": null,
            "grid_auto_rows": null,
            "grid_column": null,
            "grid_gap": null,
            "grid_row": null,
            "grid_template_areas": null,
            "grid_template_columns": null,
            "grid_template_rows": null,
            "height": null,
            "justify_content": null,
            "justify_items": null,
            "left": null,
            "margin": null,
            "max_height": null,
            "max_width": null,
            "min_height": null,
            "min_width": null,
            "object_fit": null,
            "object_position": null,
            "order": null,
            "overflow": null,
            "overflow_x": null,
            "overflow_y": null,
            "padding": null,
            "right": null,
            "top": null,
            "visibility": null,
            "width": null
          }
        },
        "33addcf4f7c14711a69e3a0a65b76584": {
          "model_module": "@jupyter-widgets/controls",
          "model_name": "ProgressStyleModel",
          "model_module_version": "1.5.0",
          "state": {
            "_model_module": "@jupyter-widgets/controls",
            "_model_module_version": "1.5.0",
            "_model_name": "ProgressStyleModel",
            "_view_count": null,
            "_view_module": "@jupyter-widgets/base",
            "_view_module_version": "1.2.0",
            "_view_name": "StyleView",
            "bar_color": null,
            "description_width": ""
          }
        },
        "7e908e2295ce407fa8be5ea3ab974843": {
          "model_module": "@jupyter-widgets/base",
          "model_name": "LayoutModel",
          "model_module_version": "1.2.0",
          "state": {
            "_model_module": "@jupyter-widgets/base",
            "_model_module_version": "1.2.0",
            "_model_name": "LayoutModel",
            "_view_count": null,
            "_view_module": "@jupyter-widgets/base",
            "_view_module_version": "1.2.0",
            "_view_name": "LayoutView",
            "align_content": null,
            "align_items": null,
            "align_self": null,
            "border": null,
            "bottom": null,
            "display": null,
            "flex": null,
            "flex_flow": null,
            "grid_area": null,
            "grid_auto_columns": null,
            "grid_auto_flow": null,
            "grid_auto_rows": null,
            "grid_column": null,
            "grid_gap": null,
            "grid_row": null,
            "grid_template_areas": null,
            "grid_template_columns": null,
            "grid_template_rows": null,
            "height": null,
            "justify_content": null,
            "justify_items": null,
            "left": null,
            "margin": null,
            "max_height": null,
            "max_width": null,
            "min_height": null,
            "min_width": null,
            "object_fit": null,
            "object_position": null,
            "order": null,
            "overflow": null,
            "overflow_x": null,
            "overflow_y": null,
            "padding": null,
            "right": null,
            "top": null,
            "visibility": null,
            "width": null
          }
        },
        "5b7b17270c5c44e092dff13cf54154d6": {
          "model_module": "@jupyter-widgets/controls",
          "model_name": "DescriptionStyleModel",
          "model_module_version": "1.5.0",
          "state": {
            "_model_module": "@jupyter-widgets/controls",
            "_model_module_version": "1.5.0",
            "_model_name": "DescriptionStyleModel",
            "_view_count": null,
            "_view_module": "@jupyter-widgets/base",
            "_view_module_version": "1.2.0",
            "_view_name": "StyleView",
            "description_width": ""
          }
        },
        "b50d9e646edd43018121a7ea32928427": {
          "model_module": "@jupyter-widgets/controls",
          "model_name": "HBoxModel",
          "model_module_version": "1.5.0",
          "state": {
            "_dom_classes": [],
            "_model_module": "@jupyter-widgets/controls",
            "_model_module_version": "1.5.0",
            "_model_name": "HBoxModel",
            "_view_count": null,
            "_view_module": "@jupyter-widgets/controls",
            "_view_module_version": "1.5.0",
            "_view_name": "HBoxView",
            "box_style": "",
            "children": [
              "IPY_MODEL_f1bcb746932d49028ff9d716f58a0840",
              "IPY_MODEL_508f218bc0324bd7b7b6c4e956091f42",
              "IPY_MODEL_57f5c6ae5e344f789c9566eb2ca93780"
            ],
            "layout": "IPY_MODEL_36cd8c3cbd7245d7b80e4363c7426866"
          }
        },
        "f1bcb746932d49028ff9d716f58a0840": {
          "model_module": "@jupyter-widgets/controls",
          "model_name": "HTMLModel",
          "model_module_version": "1.5.0",
          "state": {
            "_dom_classes": [],
            "_model_module": "@jupyter-widgets/controls",
            "_model_module_version": "1.5.0",
            "_model_name": "HTMLModel",
            "_view_count": null,
            "_view_module": "@jupyter-widgets/controls",
            "_view_module_version": "1.5.0",
            "_view_name": "HTMLView",
            "description": "",
            "description_tooltip": null,
            "layout": "IPY_MODEL_7785a226c99e41b0afec956db30c0414",
            "placeholder": "​",
            "style": "IPY_MODEL_91bfa57ffe1742118cb75ed4b60f9f73",
            "value": "  0%"
          }
        },
        "508f218bc0324bd7b7b6c4e956091f42": {
          "model_module": "@jupyter-widgets/controls",
          "model_name": "FloatProgressModel",
          "model_module_version": "1.5.0",
          "state": {
            "_dom_classes": [],
            "_model_module": "@jupyter-widgets/controls",
            "_model_module_version": "1.5.0",
            "_model_name": "FloatProgressModel",
            "_view_count": null,
            "_view_module": "@jupyter-widgets/controls",
            "_view_module_version": "1.5.0",
            "_view_name": "ProgressView",
            "bar_style": "danger",
            "description": "",
            "description_tooltip": null,
            "layout": "IPY_MODEL_c4d1c558aa074507aa20e75387bedaae",
            "max": 27,
            "min": 0,
            "orientation": "horizontal",
            "style": "IPY_MODEL_e3e88cf76cf2476ea48a4afe31aa5506",
            "value": 0
          }
        },
        "57f5c6ae5e344f789c9566eb2ca93780": {
          "model_module": "@jupyter-widgets/controls",
          "model_name": "HTMLModel",
          "model_module_version": "1.5.0",
          "state": {
            "_dom_classes": [],
            "_model_module": "@jupyter-widgets/controls",
            "_model_module_version": "1.5.0",
            "_model_name": "HTMLModel",
            "_view_count": null,
            "_view_module": "@jupyter-widgets/controls",
            "_view_module_version": "1.5.0",
            "_view_name": "HTMLView",
            "description": "",
            "description_tooltip": null,
            "layout": "IPY_MODEL_4b3f14e2d25f4459b2a40aaf903830ea",
            "placeholder": "​",
            "style": "IPY_MODEL_db4e5e0e29cd4cb685b79a9b9f7746cb",
            "value": " 0/27 [00:00&lt;?, ?it/s]"
          }
        },
        "36cd8c3cbd7245d7b80e4363c7426866": {
          "model_module": "@jupyter-widgets/base",
          "model_name": "LayoutModel",
          "model_module_version": "1.2.0",
          "state": {
            "_model_module": "@jupyter-widgets/base",
            "_model_module_version": "1.2.0",
            "_model_name": "LayoutModel",
            "_view_count": null,
            "_view_module": "@jupyter-widgets/base",
            "_view_module_version": "1.2.0",
            "_view_name": "LayoutView",
            "align_content": null,
            "align_items": null,
            "align_self": null,
            "border": null,
            "bottom": null,
            "display": null,
            "flex": null,
            "flex_flow": null,
            "grid_area": null,
            "grid_auto_columns": null,
            "grid_auto_flow": null,
            "grid_auto_rows": null,
            "grid_column": null,
            "grid_gap": null,
            "grid_row": null,
            "grid_template_areas": null,
            "grid_template_columns": null,
            "grid_template_rows": null,
            "height": null,
            "justify_content": null,
            "justify_items": null,
            "left": null,
            "margin": null,
            "max_height": null,
            "max_width": null,
            "min_height": null,
            "min_width": null,
            "object_fit": null,
            "object_position": null,
            "order": null,
            "overflow": null,
            "overflow_x": null,
            "overflow_y": null,
            "padding": null,
            "right": null,
            "top": null,
            "visibility": null,
            "width": null
          }
        },
        "7785a226c99e41b0afec956db30c0414": {
          "model_module": "@jupyter-widgets/base",
          "model_name": "LayoutModel",
          "model_module_version": "1.2.0",
          "state": {
            "_model_module": "@jupyter-widgets/base",
            "_model_module_version": "1.2.0",
            "_model_name": "LayoutModel",
            "_view_count": null,
            "_view_module": "@jupyter-widgets/base",
            "_view_module_version": "1.2.0",
            "_view_name": "LayoutView",
            "align_content": null,
            "align_items": null,
            "align_self": null,
            "border": null,
            "bottom": null,
            "display": null,
            "flex": null,
            "flex_flow": null,
            "grid_area": null,
            "grid_auto_columns": null,
            "grid_auto_flow": null,
            "grid_auto_rows": null,
            "grid_column": null,
            "grid_gap": null,
            "grid_row": null,
            "grid_template_areas": null,
            "grid_template_columns": null,
            "grid_template_rows": null,
            "height": null,
            "justify_content": null,
            "justify_items": null,
            "left": null,
            "margin": null,
            "max_height": null,
            "max_width": null,
            "min_height": null,
            "min_width": null,
            "object_fit": null,
            "object_position": null,
            "order": null,
            "overflow": null,
            "overflow_x": null,
            "overflow_y": null,
            "padding": null,
            "right": null,
            "top": null,
            "visibility": null,
            "width": null
          }
        },
        "91bfa57ffe1742118cb75ed4b60f9f73": {
          "model_module": "@jupyter-widgets/controls",
          "model_name": "DescriptionStyleModel",
          "model_module_version": "1.5.0",
          "state": {
            "_model_module": "@jupyter-widgets/controls",
            "_model_module_version": "1.5.0",
            "_model_name": "DescriptionStyleModel",
            "_view_count": null,
            "_view_module": "@jupyter-widgets/base",
            "_view_module_version": "1.2.0",
            "_view_name": "StyleView",
            "description_width": ""
          }
        },
        "c4d1c558aa074507aa20e75387bedaae": {
          "model_module": "@jupyter-widgets/base",
          "model_name": "LayoutModel",
          "model_module_version": "1.2.0",
          "state": {
            "_model_module": "@jupyter-widgets/base",
            "_model_module_version": "1.2.0",
            "_model_name": "LayoutModel",
            "_view_count": null,
            "_view_module": "@jupyter-widgets/base",
            "_view_module_version": "1.2.0",
            "_view_name": "LayoutView",
            "align_content": null,
            "align_items": null,
            "align_self": null,
            "border": null,
            "bottom": null,
            "display": null,
            "flex": null,
            "flex_flow": null,
            "grid_area": null,
            "grid_auto_columns": null,
            "grid_auto_flow": null,
            "grid_auto_rows": null,
            "grid_column": null,
            "grid_gap": null,
            "grid_row": null,
            "grid_template_areas": null,
            "grid_template_columns": null,
            "grid_template_rows": null,
            "height": null,
            "justify_content": null,
            "justify_items": null,
            "left": null,
            "margin": null,
            "max_height": null,
            "max_width": null,
            "min_height": null,
            "min_width": null,
            "object_fit": null,
            "object_position": null,
            "order": null,
            "overflow": null,
            "overflow_x": null,
            "overflow_y": null,
            "padding": null,
            "right": null,
            "top": null,
            "visibility": null,
            "width": null
          }
        },
        "e3e88cf76cf2476ea48a4afe31aa5506": {
          "model_module": "@jupyter-widgets/controls",
          "model_name": "ProgressStyleModel",
          "model_module_version": "1.5.0",
          "state": {
            "_model_module": "@jupyter-widgets/controls",
            "_model_module_version": "1.5.0",
            "_model_name": "ProgressStyleModel",
            "_view_count": null,
            "_view_module": "@jupyter-widgets/base",
            "_view_module_version": "1.2.0",
            "_view_name": "StyleView",
            "bar_color": null,
            "description_width": ""
          }
        },
        "4b3f14e2d25f4459b2a40aaf903830ea": {
          "model_module": "@jupyter-widgets/base",
          "model_name": "LayoutModel",
          "model_module_version": "1.2.0",
          "state": {
            "_model_module": "@jupyter-widgets/base",
            "_model_module_version": "1.2.0",
            "_model_name": "LayoutModel",
            "_view_count": null,
            "_view_module": "@jupyter-widgets/base",
            "_view_module_version": "1.2.0",
            "_view_name": "LayoutView",
            "align_content": null,
            "align_items": null,
            "align_self": null,
            "border": null,
            "bottom": null,
            "display": null,
            "flex": null,
            "flex_flow": null,
            "grid_area": null,
            "grid_auto_columns": null,
            "grid_auto_flow": null,
            "grid_auto_rows": null,
            "grid_column": null,
            "grid_gap": null,
            "grid_row": null,
            "grid_template_areas": null,
            "grid_template_columns": null,
            "grid_template_rows": null,
            "height": null,
            "justify_content": null,
            "justify_items": null,
            "left": null,
            "margin": null,
            "max_height": null,
            "max_width": null,
            "min_height": null,
            "min_width": null,
            "object_fit": null,
            "object_position": null,
            "order": null,
            "overflow": null,
            "overflow_x": null,
            "overflow_y": null,
            "padding": null,
            "right": null,
            "top": null,
            "visibility": null,
            "width": null
          }
        },
        "db4e5e0e29cd4cb685b79a9b9f7746cb": {
          "model_module": "@jupyter-widgets/controls",
          "model_name": "DescriptionStyleModel",
          "model_module_version": "1.5.0",
          "state": {
            "_model_module": "@jupyter-widgets/controls",
            "_model_module_version": "1.5.0",
            "_model_name": "DescriptionStyleModel",
            "_view_count": null,
            "_view_module": "@jupyter-widgets/base",
            "_view_module_version": "1.2.0",
            "_view_name": "StyleView",
            "description_width": ""
          }
        }
      }
    }
  },
  "cells": [
    {
      "cell_type": "code",
      "execution_count": null,
      "metadata": {
        "colab": {
          "base_uri": "https://localhost:8080/"
        },
        "id": "U4Hyig0sgUgo",
        "outputId": "779e65a0-c0dd-4f21-a518-818d3bb38031"
      },
      "outputs": [
        {
          "output_type": "stream",
          "name": "stdout",
          "text": [
            "Drive already mounted at /content/gdrive; to attempt to forcibly remount, call drive.mount(\"/content/gdrive\", force_remount=True).\n"
          ]
        }
      ],
      "source": [
        "from google.colab import drive\n",
        "drive.mount('/content/gdrive')\n"
      ]
    },
    {
      "cell_type": "code",
      "source": [
        "!unzip gdrive/My\\ Drive/digipath/ki-67-patches-dataset.zip"
      ],
      "metadata": {
        "colab": {
          "base_uri": "https://localhost:8080/"
        },
        "id": "j6znYv1tgl3C",
        "outputId": "936916d9-114b-45e5-dfc3-bd88b1cfa014"
      },
      "execution_count": null,
      "outputs": [
        {
          "output_type": "stream",
          "name": "stdout",
          "text": [
            "Archive:  gdrive/My Drive/digipath/ki-67-patches-dataset.zip\n",
            "replace Ki-67-patches-dataset/images/test/63_105.png? [y]es, [n]o, [A]ll, [N]one, [r]ename: A\n",
            "  inflating: Ki-67-patches-dataset/images/test/63_105.png  \n",
            "  inflating: Ki-67-patches-dataset/images/test/64_106.png  \n",
            "  inflating: Ki-67-patches-dataset/images/test/64_107.png  \n",
            "  inflating: Ki-67-patches-dataset/images/test/65_108.png  \n",
            "  inflating: Ki-67-patches-dataset/images/test/65_109.png  \n",
            "  inflating: Ki-67-patches-dataset/images/test/65_110.png  \n",
            "  inflating: Ki-67-patches-dataset/images/test/65_111.png  \n",
            "  inflating: Ki-67-patches-dataset/images/test/66_112.png  \n",
            "  inflating: Ki-67-patches-dataset/images/test/66_113.png  \n",
            "  inflating: Ki-67-patches-dataset/images/test/66_114.png  \n",
            "  inflating: Ki-67-patches-dataset/images/test/67_115.png  \n",
            "  inflating: Ki-67-patches-dataset/images/test/67_116.png  \n",
            "  inflating: Ki-67-patches-dataset/images/test/67_117.png  \n",
            "  inflating: Ki-67-patches-dataset/images/test/68_118.png  \n",
            "  inflating: Ki-67-patches-dataset/images/test/68_119.png  \n",
            "  inflating: Ki-67-patches-dataset/images/train/1_0.png  \n",
            "  inflating: Ki-67-patches-dataset/images/train/1_1.png  \n",
            "  inflating: Ki-67-patches-dataset/images/train/10_25.png  \n",
            "  inflating: Ki-67-patches-dataset/images/train/10_26.png  \n",
            "  inflating: Ki-67-patches-dataset/images/train/10_27.png  \n",
            "  inflating: Ki-67-patches-dataset/images/train/11_28.png  \n",
            "  inflating: Ki-67-patches-dataset/images/train/11_29.png  \n",
            "  inflating: Ki-67-patches-dataset/images/train/11_30.png  \n",
            "  inflating: Ki-67-patches-dataset/images/train/11_31.png  \n",
            "  inflating: Ki-67-patches-dataset/images/train/12_32.png  \n",
            "  inflating: Ki-67-patches-dataset/images/train/12_33.png  \n",
            "  inflating: Ki-67-patches-dataset/images/train/13_34.png  \n",
            "  inflating: Ki-67-patches-dataset/images/train/13_35.png  \n",
            "  inflating: Ki-67-patches-dataset/images/train/13_36.png  \n",
            "  inflating: Ki-67-patches-dataset/images/train/15_37.png  \n",
            "  inflating: Ki-67-patches-dataset/images/train/15_38.png  \n",
            "  inflating: Ki-67-patches-dataset/images/train/15_39.png  \n",
            "  inflating: Ki-67-patches-dataset/images/train/15_40.png  \n",
            "  inflating: Ki-67-patches-dataset/images/train/17_41.png  \n",
            "  inflating: Ki-67-patches-dataset/images/train/17_42.png  \n",
            "  inflating: Ki-67-patches-dataset/images/train/18_43.png  \n",
            "  inflating: Ki-67-patches-dataset/images/train/18_44.png  \n",
            "  inflating: Ki-67-patches-dataset/images/train/19_45.png  \n",
            "  inflating: Ki-67-patches-dataset/images/train/19_46.png  \n",
            "  inflating: Ki-67-patches-dataset/images/train/2_2.png  \n",
            "  inflating: Ki-67-patches-dataset/images/train/2_3.png  \n",
            "  inflating: Ki-67-patches-dataset/images/train/2_4.png  \n",
            "  inflating: Ki-67-patches-dataset/images/train/2_5.png  \n",
            "  inflating: Ki-67-patches-dataset/images/train/20_47.png  \n",
            "  inflating: Ki-67-patches-dataset/images/train/20_48.png  \n",
            "  inflating: Ki-67-patches-dataset/images/train/21_49.png  \n",
            "  inflating: Ki-67-patches-dataset/images/train/21_50.png  \n",
            "  inflating: Ki-67-patches-dataset/images/train/3_6.png  \n",
            "  inflating: Ki-67-patches-dataset/images/train/3_7.png  \n",
            "  inflating: Ki-67-patches-dataset/images/train/3_8.png  \n",
            "  inflating: Ki-67-patches-dataset/images/train/4_10.png  \n",
            "  inflating: Ki-67-patches-dataset/images/train/4_11.png  \n",
            "  inflating: Ki-67-patches-dataset/images/train/4_9.png  \n",
            "  inflating: Ki-67-patches-dataset/images/train/45_51.png  \n",
            "  inflating: Ki-67-patches-dataset/images/train/45_52.png  \n",
            "  inflating: Ki-67-patches-dataset/images/train/45_53.png  \n",
            "  inflating: Ki-67-patches-dataset/images/train/45_54.png  \n",
            "  inflating: Ki-67-patches-dataset/images/train/45_55.png  \n",
            "  inflating: Ki-67-patches-dataset/images/train/45_56.png  \n",
            "  inflating: Ki-67-patches-dataset/images/train/45_57.png  \n",
            "  inflating: Ki-67-patches-dataset/images/train/46_58.png  \n",
            "  inflating: Ki-67-patches-dataset/images/train/46_59.png  \n",
            "  inflating: Ki-67-patches-dataset/images/train/46_60.png  \n",
            "  inflating: Ki-67-patches-dataset/images/train/46_61.png  \n",
            "  inflating: Ki-67-patches-dataset/images/train/46_62.png  \n",
            "  inflating: Ki-67-patches-dataset/images/train/47_63.png  \n",
            "  inflating: Ki-67-patches-dataset/images/train/47_64.png  \n",
            "  inflating: Ki-67-patches-dataset/images/train/48_65.png  \n",
            "  inflating: Ki-67-patches-dataset/images/train/48_66.png  \n",
            "  inflating: Ki-67-patches-dataset/images/train/48_67.png  \n",
            "  inflating: Ki-67-patches-dataset/images/train/48_68.png  \n",
            "  inflating: Ki-67-patches-dataset/images/train/48_69.png  \n",
            "  inflating: Ki-67-patches-dataset/images/train/49_70.png  \n",
            "  inflating: Ki-67-patches-dataset/images/train/49_71.png  \n",
            "  inflating: Ki-67-patches-dataset/images/train/5_12.png  \n",
            "  inflating: Ki-67-patches-dataset/images/train/5_13.png  \n",
            "  inflating: Ki-67-patches-dataset/images/train/50_72.png  \n",
            "  inflating: Ki-67-patches-dataset/images/train/51_73.png  \n",
            "  inflating: Ki-67-patches-dataset/images/train/51_74.png  \n",
            "  inflating: Ki-67-patches-dataset/images/train/52_75.png  \n",
            "  inflating: Ki-67-patches-dataset/images/train/52_76.png  \n",
            "  inflating: Ki-67-patches-dataset/images/train/52_77.png  \n",
            "  inflating: Ki-67-patches-dataset/images/train/52_78.png  \n",
            "  inflating: Ki-67-patches-dataset/images/train/52_79.png  \n",
            "  inflating: Ki-67-patches-dataset/images/train/53_80.png  \n",
            "  inflating: Ki-67-patches-dataset/images/train/53_81.png  \n",
            "  inflating: Ki-67-patches-dataset/images/train/53_82.png  \n",
            "  inflating: Ki-67-patches-dataset/images/train/54_83.png  \n",
            "  inflating: Ki-67-patches-dataset/images/train/54_84.png  \n",
            "  inflating: Ki-67-patches-dataset/images/train/54_85.png  \n",
            "  inflating: Ki-67-patches-dataset/images/train/55_86.png  \n",
            "  inflating: Ki-67-patches-dataset/images/train/55_87.png  \n",
            "  inflating: Ki-67-patches-dataset/images/train/55_88.png  \n",
            "  inflating: Ki-67-patches-dataset/images/train/55_89.png  \n",
            "  inflating: Ki-67-patches-dataset/images/train/56_90.png  \n",
            "  inflating: Ki-67-patches-dataset/images/train/56_91.png  \n",
            "  inflating: Ki-67-patches-dataset/images/train/56_92.png  \n",
            "  inflating: Ki-67-patches-dataset/images/train/56_93.png  \n",
            "  inflating: Ki-67-patches-dataset/images/train/57_94.png  \n",
            "  inflating: Ki-67-patches-dataset/images/train/58_95.png  \n",
            "  inflating: Ki-67-patches-dataset/images/train/59_96.png  \n",
            "  inflating: Ki-67-patches-dataset/images/train/6_14.png  \n",
            "  inflating: Ki-67-patches-dataset/images/train/6_15.png  \n",
            "  inflating: Ki-67-patches-dataset/images/train/6_16.png  \n",
            "  inflating: Ki-67-patches-dataset/images/train/60_97.png  \n",
            "  inflating: Ki-67-patches-dataset/images/train/60_98.png  \n",
            "  inflating: Ki-67-patches-dataset/images/train/61_100.png  \n",
            "  inflating: Ki-67-patches-dataset/images/train/61_101.png  \n",
            "  inflating: Ki-67-patches-dataset/images/train/61_99.png  \n",
            "  inflating: Ki-67-patches-dataset/images/train/62_102.png  \n",
            "  inflating: Ki-67-patches-dataset/images/train/62_103.png  \n",
            "  inflating: Ki-67-patches-dataset/images/train/63_104.png  \n",
            "  inflating: Ki-67-patches-dataset/images/train/7_17.png  \n",
            "  inflating: Ki-67-patches-dataset/images/train/7_18.png  \n",
            "  inflating: Ki-67-patches-dataset/images/train/7_19.png  \n",
            "  inflating: Ki-67-patches-dataset/images/train/8_20.png  \n",
            "  inflating: Ki-67-patches-dataset/images/train/8_21.png  \n",
            "  inflating: Ki-67-patches-dataset/images/train/8_22.png  \n",
            "  inflating: Ki-67-patches-dataset/images/train/9_23.png  \n",
            "  inflating: Ki-67-patches-dataset/images/train/9_24.png  \n",
            "  inflating: Ki-67-patches-dataset/labels.xlsx  \n",
            "  inflating: Ki-67-patches-dataset/segmentations/test/63_105.png  \n",
            "  inflating: Ki-67-patches-dataset/segmentations/test/64_106.png  \n",
            "  inflating: Ki-67-patches-dataset/segmentations/test/64_107.png  \n",
            "  inflating: Ki-67-patches-dataset/segmentations/test/65_108.png  \n",
            "  inflating: Ki-67-patches-dataset/segmentations/test/65_109.png  \n",
            "  inflating: Ki-67-patches-dataset/segmentations/test/65_110.png  \n",
            "  inflating: Ki-67-patches-dataset/segmentations/test/65_111.png  \n",
            "  inflating: Ki-67-patches-dataset/segmentations/test/66_112.png  \n",
            "  inflating: Ki-67-patches-dataset/segmentations/test/66_113.png  \n",
            "  inflating: Ki-67-patches-dataset/segmentations/test/66_114.png  \n",
            "  inflating: Ki-67-patches-dataset/segmentations/test/67_115.png  \n",
            "  inflating: Ki-67-patches-dataset/segmentations/test/67_116.png  \n",
            "  inflating: Ki-67-patches-dataset/segmentations/test/67_117.png  \n",
            "  inflating: Ki-67-patches-dataset/segmentations/test/68_118.png  \n",
            "  inflating: Ki-67-patches-dataset/segmentations/test/68_119.png  \n",
            "  inflating: Ki-67-patches-dataset/segmentations/train/1_0.png  \n",
            "  inflating: Ki-67-patches-dataset/segmentations/train/1_1.png  \n",
            "  inflating: Ki-67-patches-dataset/segmentations/train/10_25.png  \n",
            "  inflating: Ki-67-patches-dataset/segmentations/train/10_26.png  \n",
            "  inflating: Ki-67-patches-dataset/segmentations/train/10_27.png  \n",
            "  inflating: Ki-67-patches-dataset/segmentations/train/11_28.png  \n",
            "  inflating: Ki-67-patches-dataset/segmentations/train/11_29.png  \n",
            "  inflating: Ki-67-patches-dataset/segmentations/train/11_30.png  \n",
            "  inflating: Ki-67-patches-dataset/segmentations/train/11_31.png  \n",
            "  inflating: Ki-67-patches-dataset/segmentations/train/12_32.png  \n",
            "  inflating: Ki-67-patches-dataset/segmentations/train/12_33.png  \n",
            "  inflating: Ki-67-patches-dataset/segmentations/train/13_34.png  \n",
            "  inflating: Ki-67-patches-dataset/segmentations/train/13_35.png  \n",
            "  inflating: Ki-67-patches-dataset/segmentations/train/13_36.png  \n",
            "  inflating: Ki-67-patches-dataset/segmentations/train/15_37.png  \n",
            "  inflating: Ki-67-patches-dataset/segmentations/train/15_38.png  \n",
            "  inflating: Ki-67-patches-dataset/segmentations/train/15_39.png  \n",
            "  inflating: Ki-67-patches-dataset/segmentations/train/15_40.png  \n",
            "  inflating: Ki-67-patches-dataset/segmentations/train/17_41.png  \n",
            "  inflating: Ki-67-patches-dataset/segmentations/train/17_42.png  \n",
            "  inflating: Ki-67-patches-dataset/segmentations/train/18_43.png  \n",
            "  inflating: Ki-67-patches-dataset/segmentations/train/18_44.png  \n",
            "  inflating: Ki-67-patches-dataset/segmentations/train/19_45.png  \n",
            "  inflating: Ki-67-patches-dataset/segmentations/train/19_46.png  \n",
            "  inflating: Ki-67-patches-dataset/segmentations/train/2_2.png  \n",
            "  inflating: Ki-67-patches-dataset/segmentations/train/2_3.png  \n",
            "  inflating: Ki-67-patches-dataset/segmentations/train/2_4.png  \n",
            "  inflating: Ki-67-patches-dataset/segmentations/train/2_5.png  \n",
            "  inflating: Ki-67-patches-dataset/segmentations/train/20_47.png  \n",
            "  inflating: Ki-67-patches-dataset/segmentations/train/20_48.png  \n",
            "  inflating: Ki-67-patches-dataset/segmentations/train/21_49.png  \n",
            "  inflating: Ki-67-patches-dataset/segmentations/train/21_50.png  \n",
            "  inflating: Ki-67-patches-dataset/segmentations/train/3_6.png  \n",
            "  inflating: Ki-67-patches-dataset/segmentations/train/3_7.png  \n",
            "  inflating: Ki-67-patches-dataset/segmentations/train/3_8.png  \n",
            "  inflating: Ki-67-patches-dataset/segmentations/train/4_10.png  \n",
            "  inflating: Ki-67-patches-dataset/segmentations/train/4_11.png  \n",
            "  inflating: Ki-67-patches-dataset/segmentations/train/4_9.png  \n",
            "  inflating: Ki-67-patches-dataset/segmentations/train/45_51.png  \n",
            "  inflating: Ki-67-patches-dataset/segmentations/train/45_52.png  \n",
            "  inflating: Ki-67-patches-dataset/segmentations/train/45_53.png  \n",
            "  inflating: Ki-67-patches-dataset/segmentations/train/45_54.png  \n",
            "  inflating: Ki-67-patches-dataset/segmentations/train/45_55.png  \n",
            "  inflating: Ki-67-patches-dataset/segmentations/train/45_56.png  \n",
            "  inflating: Ki-67-patches-dataset/segmentations/train/45_57.png  \n",
            "  inflating: Ki-67-patches-dataset/segmentations/train/46_58.png  \n",
            "  inflating: Ki-67-patches-dataset/segmentations/train/46_59.png  \n",
            "  inflating: Ki-67-patches-dataset/segmentations/train/46_60.png  \n",
            "  inflating: Ki-67-patches-dataset/segmentations/train/46_61.png  \n",
            "  inflating: Ki-67-patches-dataset/segmentations/train/46_62.png  \n",
            "  inflating: Ki-67-patches-dataset/segmentations/train/47_63.png  \n",
            "  inflating: Ki-67-patches-dataset/segmentations/train/47_64.png  \n",
            "  inflating: Ki-67-patches-dataset/segmentations/train/48_65.png  \n",
            "  inflating: Ki-67-patches-dataset/segmentations/train/48_66.png  \n",
            "  inflating: Ki-67-patches-dataset/segmentations/train/48_67.png  \n",
            "  inflating: Ki-67-patches-dataset/segmentations/train/48_68.png  \n",
            "  inflating: Ki-67-patches-dataset/segmentations/train/48_69.png  \n",
            "  inflating: Ki-67-patches-dataset/segmentations/train/49_70.png  \n",
            "  inflating: Ki-67-patches-dataset/segmentations/train/49_71.png  \n",
            "  inflating: Ki-67-patches-dataset/segmentations/train/5_12.png  \n",
            "  inflating: Ki-67-patches-dataset/segmentations/train/5_13.png  \n",
            "  inflating: Ki-67-patches-dataset/segmentations/train/50_72.png  \n",
            "  inflating: Ki-67-patches-dataset/segmentations/train/51_73.png  \n",
            "  inflating: Ki-67-patches-dataset/segmentations/train/51_74.png  \n",
            "  inflating: Ki-67-patches-dataset/segmentations/train/52_75.png  \n",
            "  inflating: Ki-67-patches-dataset/segmentations/train/52_76.png  \n",
            "  inflating: Ki-67-patches-dataset/segmentations/train/52_77.png  \n",
            "  inflating: Ki-67-patches-dataset/segmentations/train/52_78.png  \n",
            "  inflating: Ki-67-patches-dataset/segmentations/train/52_79.png  \n",
            "  inflating: Ki-67-patches-dataset/segmentations/train/53_80.png  \n",
            "  inflating: Ki-67-patches-dataset/segmentations/train/53_81.png  \n",
            "  inflating: Ki-67-patches-dataset/segmentations/train/53_82.png  \n",
            "  inflating: Ki-67-patches-dataset/segmentations/train/54_83.png  \n",
            "  inflating: Ki-67-patches-dataset/segmentations/train/54_84.png  \n",
            "  inflating: Ki-67-patches-dataset/segmentations/train/54_85.png  \n",
            "  inflating: Ki-67-patches-dataset/segmentations/train/55_86.png  \n",
            "  inflating: Ki-67-patches-dataset/segmentations/train/55_87.png  \n",
            "  inflating: Ki-67-patches-dataset/segmentations/train/55_88.png  \n",
            "  inflating: Ki-67-patches-dataset/segmentations/train/55_89.png  \n",
            "  inflating: Ki-67-patches-dataset/segmentations/train/56_90.png  \n",
            "  inflating: Ki-67-patches-dataset/segmentations/train/56_91.png  \n",
            "  inflating: Ki-67-patches-dataset/segmentations/train/56_92.png  \n",
            "  inflating: Ki-67-patches-dataset/segmentations/train/56_93.png  \n",
            "  inflating: Ki-67-patches-dataset/segmentations/train/57_94.png  \n",
            "  inflating: Ki-67-patches-dataset/segmentations/train/58_95.png  \n",
            "  inflating: Ki-67-patches-dataset/segmentations/train/59_96.png  \n",
            "  inflating: Ki-67-patches-dataset/segmentations/train/6_14.png  \n",
            "  inflating: Ki-67-patches-dataset/segmentations/train/6_15.png  \n",
            "  inflating: Ki-67-patches-dataset/segmentations/train/6_16.png  \n",
            "  inflating: Ki-67-patches-dataset/segmentations/train/60_97.png  \n",
            "  inflating: Ki-67-patches-dataset/segmentations/train/60_98.png  \n",
            "  inflating: Ki-67-patches-dataset/segmentations/train/61_100.png  \n",
            "  inflating: Ki-67-patches-dataset/segmentations/train/61_101.png  \n",
            "  inflating: Ki-67-patches-dataset/segmentations/train/61_99.png  \n",
            "  inflating: Ki-67-patches-dataset/segmentations/train/62_102.png  \n",
            "  inflating: Ki-67-patches-dataset/segmentations/train/62_103.png  \n",
            "  inflating: Ki-67-patches-dataset/segmentations/train/63_104.png  \n",
            "  inflating: Ki-67-patches-dataset/segmentations/train/7_17.png  \n",
            "  inflating: Ki-67-patches-dataset/segmentations/train/7_18.png  \n",
            "  inflating: Ki-67-patches-dataset/segmentations/train/7_19.png  \n",
            "  inflating: Ki-67-patches-dataset/segmentations/train/8_20.png  \n",
            "  inflating: Ki-67-patches-dataset/segmentations/train/8_21.png  \n",
            "  inflating: Ki-67-patches-dataset/segmentations/train/8_22.png  \n",
            "  inflating: Ki-67-patches-dataset/segmentations/train/9_23.png  \n",
            "  inflating: Ki-67-patches-dataset/segmentations/train/9_24.png  \n",
            "  inflating: Ki-67-patches-dataset/dict.csv.csv  \n",
            "  inflating: Ki-67-patches-dataset/class_dict_seg - class_dict_seg.csv  \n"
          ]
        }
      ]
    },
    {
      "cell_type": "code",
      "source": [
        "!pip install --upgrade transformers"
      ],
      "metadata": {
        "colab": {
          "base_uri": "https://localhost:8080/"
        },
        "id": "fDJB96WEhCcd",
        "outputId": "71b59248-2131-4355-cea9-d230f985ee42"
      },
      "execution_count": null,
      "outputs": [
        {
          "output_type": "stream",
          "name": "stdout",
          "text": [
            "Collecting transformers\n",
            "  Downloading transformers-4.31.0-py3-none-any.whl (7.4 MB)\n",
            "\u001b[2K     \u001b[90m━━━━━━━━━━━━━━━━━━━━━━━━━━━━━━━━━━━━━━━━\u001b[0m \u001b[32m7.4/7.4 MB\u001b[0m \u001b[31m60.7 MB/s\u001b[0m eta \u001b[36m0:00:00\u001b[0m\n",
            "\u001b[?25hRequirement already satisfied: filelock in /usr/local/lib/python3.10/dist-packages (from transformers) (3.12.2)\n",
            "Collecting huggingface-hub<1.0,>=0.14.1 (from transformers)\n",
            "  Downloading huggingface_hub-0.16.4-py3-none-any.whl (268 kB)\n",
            "\u001b[2K     \u001b[90m━━━━━━━━━━━━━━━━━━━━━━━━━━━━━━━━━━━━━━\u001b[0m \u001b[32m268.8/268.8 kB\u001b[0m \u001b[31m30.5 MB/s\u001b[0m eta \u001b[36m0:00:00\u001b[0m\n",
            "\u001b[?25hRequirement already satisfied: numpy>=1.17 in /usr/local/lib/python3.10/dist-packages (from transformers) (1.22.4)\n",
            "Requirement already satisfied: packaging>=20.0 in /usr/local/lib/python3.10/dist-packages (from transformers) (23.1)\n",
            "Requirement already satisfied: pyyaml>=5.1 in /usr/local/lib/python3.10/dist-packages (from transformers) (6.0)\n",
            "Requirement already satisfied: regex!=2019.12.17 in /usr/local/lib/python3.10/dist-packages (from transformers) (2022.10.31)\n",
            "Requirement already satisfied: requests in /usr/local/lib/python3.10/dist-packages (from transformers) (2.27.1)\n",
            "Collecting tokenizers!=0.11.3,<0.14,>=0.11.1 (from transformers)\n",
            "  Downloading tokenizers-0.13.3-cp310-cp310-manylinux_2_17_x86_64.manylinux2014_x86_64.whl (7.8 MB)\n",
            "\u001b[2K     \u001b[90m━━━━━━━━━━━━━━━━━━━━━━━━━━━━━━━━━━━━━━━━\u001b[0m \u001b[32m7.8/7.8 MB\u001b[0m \u001b[31m97.1 MB/s\u001b[0m eta \u001b[36m0:00:00\u001b[0m\n",
            "\u001b[?25hCollecting safetensors>=0.3.1 (from transformers)\n",
            "  Downloading safetensors-0.3.1-cp310-cp310-manylinux_2_17_x86_64.manylinux2014_x86_64.whl (1.3 MB)\n",
            "\u001b[2K     \u001b[90m━━━━━━━━━━━━━━━━━━━━━━━━━━━━━━━━━━━━━━━━\u001b[0m \u001b[32m1.3/1.3 MB\u001b[0m \u001b[31m85.3 MB/s\u001b[0m eta \u001b[36m0:00:00\u001b[0m\n",
            "\u001b[?25hRequirement already satisfied: tqdm>=4.27 in /usr/local/lib/python3.10/dist-packages (from transformers) (4.65.0)\n",
            "Requirement already satisfied: fsspec in /usr/local/lib/python3.10/dist-packages (from huggingface-hub<1.0,>=0.14.1->transformers) (2023.6.0)\n",
            "Requirement already satisfied: typing-extensions>=3.7.4.3 in /usr/local/lib/python3.10/dist-packages (from huggingface-hub<1.0,>=0.14.1->transformers) (4.7.1)\n",
            "Requirement already satisfied: urllib3<1.27,>=1.21.1 in /usr/local/lib/python3.10/dist-packages (from requests->transformers) (1.26.16)\n",
            "Requirement already satisfied: certifi>=2017.4.17 in /usr/local/lib/python3.10/dist-packages (from requests->transformers) (2023.5.7)\n",
            "Requirement already satisfied: charset-normalizer~=2.0.0 in /usr/local/lib/python3.10/dist-packages (from requests->transformers) (2.0.12)\n",
            "Requirement already satisfied: idna<4,>=2.5 in /usr/local/lib/python3.10/dist-packages (from requests->transformers) (3.4)\n",
            "Installing collected packages: tokenizers, safetensors, huggingface-hub, transformers\n",
            "Successfully installed huggingface-hub-0.16.4 safetensors-0.3.1 tokenizers-0.13.3 transformers-4.31.0\n"
          ]
        }
      ]
    },
    {
      "cell_type": "code",
      "source": [
        "from torch.utils.data import Dataset, DataLoader\n",
        "from transformers import AdamW\n",
        "import torch\n",
        "from torch import nn\n",
        "from sklearn.metrics import accuracy_score\n",
        "from tqdm.notebook import tqdm\n",
        "import os\n",
        "from PIL import Image\n",
        "from transformers import SegformerForSemanticSegmentation, SegformerFeatureExtractor\n",
        "import pandas as pd\n",
        "import cv2\n",
        "import numpy as np\n",
        "import albumentations as aug"
      ],
      "metadata": {
        "id": "ZXiX-NZFhHT-"
      },
      "execution_count": null,
      "outputs": []
    },
    {
      "cell_type": "code",
      "source": [
        "WIDTH = 384\n",
        "HEIGHT = 384"
      ],
      "metadata": {
        "id": "JrhQNduIhOhC"
      },
      "execution_count": null,
      "outputs": []
    },
    {
      "cell_type": "code",
      "source": [
        "class ImageSegmentationDataset(Dataset):\n",
        "    \"\"\"Image segmentation dataset.\"\"\"\n",
        "\n",
        "    def __init__(self, root_dir, feature_extractor, transforms=None, train=True):\n",
        "        \"\"\"\n",
        "        Args:\n",
        "            root_dir (string): Root directory of the dataset containing the images + annotations.\n",
        "            feature_extractor (SegFormerFeatureExtractor): feature extractor to prepare images + segmentation maps.\n",
        "            train (bool): Whether to load \"training\" or \"validation\" images + annotations.\n",
        "        \"\"\"\n",
        "        self.root_dir = root_dir\n",
        "        self.feature_extractor = feature_extractor\n",
        "        self.train = train\n",
        "        self.transforms = transforms\n",
        "\n",
        "        sub_path = \"train\" if self.train else \"test\"\n",
        "        self.img_dir = os.path.join(self.root_dir, \"images\", sub_path)\n",
        "        self.ann_dir = os.path.join(self.root_dir, \"segmentations\", sub_path)\n",
        "\n",
        "        # read images\n",
        "        image_file_names = []\n",
        "        for root, dirs, files in os.walk(self.img_dir):\n",
        "            image_file_names.extend(files)\n",
        "        self.images = sorted(image_file_names)\n",
        "\n",
        "        # read annotations\n",
        "        annotation_file_names = []\n",
        "        for root, dirs, files in os.walk(self.ann_dir):\n",
        "            annotation_file_names.extend(files)\n",
        "        self.annotations = sorted(annotation_file_names)\n",
        "\n",
        "        assert len(self.images) == len(self.annotations), \"There must be as many images as there are segmentation maps\"\n",
        "\n",
        "    def __len__(self):\n",
        "        return len(self.images)\n",
        "\n",
        "    def __getitem__(self, idx):\n",
        "\n",
        "        image = cv2.imread(os.path.join(self.img_dir, self.images[idx]))\n",
        "        image = cv2.cvtColor(image, cv2.COLOR_BGR2RGB)\n",
        "        # image = cv2.resize(image, (HEIGHT, WIDTH))\n",
        "\n",
        "        segmentation_map = cv2.imread(os.path.join(self.ann_dir, self.annotations[idx]))\n",
        "        segmentation_map = cv2.cvtColor(segmentation_map, cv2.COLOR_BGR2GRAY)\n",
        "        # segmentation_map = cv2.resize(segmentation_map, (HEIGHT, WIDTH))\n",
        "#         image = Image.open()\n",
        "#         segmentation_map = Image.open()\n",
        "\n",
        "        if self.transforms is not None:\n",
        "            augmented = self.transforms(image=image, mask=segmentation_map)\n",
        "            # randomly crop + pad both image and segmentation map to same size\n",
        "            encoded_inputs = self.feature_extractor(augmented['image'], augmented['mask'], return_tensors=\"pt\")\n",
        "        else:\n",
        "            encoded_inputs = self.feature_extractor(image, segmentation_map, return_tensors=\"pt\")\n",
        "\n",
        "        for k,v in encoded_inputs.items():\n",
        "            encoded_inputs[k].squeeze_() # remove batch dimension\n",
        "\n",
        "        return encoded_inputs"
      ],
      "metadata": {
        "id": "Z_dLtNfWhZ39"
      },
      "execution_count": null,
      "outputs": []
    },
    {
      "cell_type": "code",
      "source": [
        "transform = aug.Compose([\n",
        "    aug.Flip(p=0.5)\n",
        "])"
      ],
      "metadata": {
        "id": "9Uy4X4LWh6pi"
      },
      "execution_count": null,
      "outputs": []
    },
    {
      "cell_type": "code",
      "source": [
        "root_dir = 'Ki-67-patches-dataset'\n",
        "feature_extractor = SegformerFeatureExtractor(align=False, reduce_zero_label=False, size=(384,384))\n",
        "\n",
        "train_dataset = ImageSegmentationDataset(root_dir=root_dir, feature_extractor=feature_extractor, transforms=transform)\n",
        "valid_dataset = ImageSegmentationDataset(root_dir=root_dir, feature_extractor=feature_extractor, transforms=None, train=False)"
      ],
      "metadata": {
        "id": "mAhtCpLph9j9",
        "colab": {
          "base_uri": "https://localhost:8080/"
        },
        "outputId": "196b5da1-1e43-4330-9c8e-fb69624ce581"
      },
      "execution_count": null,
      "outputs": [
        {
          "output_type": "stream",
          "name": "stderr",
          "text": [
            "/usr/local/lib/python3.10/dist-packages/transformers/models/segformer/feature_extraction_segformer.py:28: FutureWarning: The class SegformerFeatureExtractor is deprecated and will be removed in version 5 of Transformers. Please use SegformerImageProcessor instead.\n",
            "  warnings.warn(\n"
          ]
        }
      ]
    },
    {
      "cell_type": "code",
      "source": [
        "print(\"Number of training examples:\", len(train_dataset))\n",
        "print(\"Number of validation examples:\", len(valid_dataset))"
      ],
      "metadata": {
        "colab": {
          "base_uri": "https://localhost:8080/"
        },
        "id": "f_wCfOfjiGW9",
        "outputId": "d4b42d68-ee95-4bb9-d1e9-10238516e969"
      },
      "execution_count": null,
      "outputs": [
        {
          "output_type": "stream",
          "name": "stdout",
          "text": [
            "Number of training examples: 105\n",
            "Number of validation examples: 15\n"
          ]
        }
      ]
    },
    {
      "cell_type": "code",
      "source": [
        "encoded_inputs = train_dataset[23]"
      ],
      "metadata": {
        "id": "7tg7Db_QiKPh"
      },
      "execution_count": null,
      "outputs": []
    },
    {
      "cell_type": "code",
      "source": [
        "encoded_inputs[\"pixel_values\"].shape"
      ],
      "metadata": {
        "colab": {
          "base_uri": "https://localhost:8080/"
        },
        "id": "s5WhHP0cijL0",
        "outputId": "6cfeaf0d-0e2a-46c2-a8f6-fe4e5c3feb7b"
      },
      "execution_count": null,
      "outputs": [
        {
          "output_type": "execute_result",
          "data": {
            "text/plain": [
              "torch.Size([3, 384, 384])"
            ]
          },
          "metadata": {},
          "execution_count": 11
        }
      ]
    },
    {
      "cell_type": "code",
      "source": [
        "encoded_inputs[\"labels\"]"
      ],
      "metadata": {
        "colab": {
          "base_uri": "https://localhost:8080/"
        },
        "id": "ZtOYQzFcil8T",
        "outputId": "5fcde0a7-8717-4738-c8a4-ccda3f1e3750"
      },
      "execution_count": null,
      "outputs": [
        {
          "output_type": "execute_result",
          "data": {
            "text/plain": [
              "tensor([[  0,   0,   0,  ..., 125, 125, 125],\n",
              "        [  0,   0,   0,  ..., 125, 125, 125],\n",
              "        [  0,   0,   0,  ..., 125, 125, 125],\n",
              "        ...,\n",
              "        [  0,   0,   0,  ..., 255, 255, 255],\n",
              "        [  0,   0,   0,  ..., 255, 255, 255],\n",
              "        [  0,   0,   0,  ..., 255, 255, 255]])"
            ]
          },
          "metadata": {},
          "execution_count": 12
        }
      ]
    },
    {
      "cell_type": "code",
      "source": [
        "encoded_inputs[\"labels\"].squeeze().unique()"
      ],
      "metadata": {
        "colab": {
          "base_uri": "https://localhost:8080/"
        },
        "id": "NAJ2Af35it1t",
        "outputId": "43e89afa-3e3c-4498-e5b0-b41e3fdf9746"
      },
      "execution_count": null,
      "outputs": [
        {
          "output_type": "execute_result",
          "data": {
            "text/plain": [
              "tensor([  0, 125, 255])"
            ]
          },
          "metadata": {},
          "execution_count": 13
        }
      ]
    },
    {
      "cell_type": "code",
      "source": [
        "mask = encoded_inputs[\"labels\"].numpy()"
      ],
      "metadata": {
        "id": "lVe81neqiwc3"
      },
      "execution_count": null,
      "outputs": []
    },
    {
      "cell_type": "code",
      "source": [
        "import matplotlib.pyplot as plt"
      ],
      "metadata": {
        "id": "gvP6uBThi2Vf"
      },
      "execution_count": null,
      "outputs": []
    },
    {
      "cell_type": "code",
      "source": [
        "plt.imshow(mask)"
      ],
      "metadata": {
        "colab": {
          "base_uri": "https://localhost:8080/",
          "height": 452
        },
        "id": "jCVbmcxhjQL5",
        "outputId": "02fc38d5-6597-4f26-b065-6a9a41e3649d"
      },
      "execution_count": null,
      "outputs": [
        {
          "output_type": "execute_result",
          "data": {
            "text/plain": [
              "<matplotlib.image.AxesImage at 0x797916b55330>"
            ]
          },
          "metadata": {},
          "execution_count": 16
        },
        {
          "output_type": "display_data",
          "data": {
            "text/plain": [
              "<Figure size 640x480 with 1 Axes>"
            ],
            "image/png": "[encoded data removed]"
          },
          "metadata": {}
        }
      ]
    },
    {
      "cell_type": "code",
      "source": [
        "from torch.utils.data import DataLoader\n",
        "\n",
        "train_dataloader = DataLoader(train_dataset, batch_size=4, shuffle=True)\n",
        "valid_dataloader = DataLoader(valid_dataset, batch_size=4)"
      ],
      "metadata": {
        "id": "gyrkopICjR8M"
      },
      "execution_count": null,
      "outputs": []
    },
    {
      "cell_type": "code",
      "source": [
        "batch = next(iter(train_dataloader))"
      ],
      "metadata": {
        "id": "4zHW4nvXjZag"
      },
      "execution_count": null,
      "outputs": []
    },
    {
      "cell_type": "code",
      "source": [
        "for k,v in batch.items():\n",
        "    print(k, v.shape)"
      ],
      "metadata": {
        "colab": {
          "base_uri": "https://localhost:8080/"
        },
        "id": "G9U-4wUvjbRH",
        "outputId": "f55aad5c-deeb-4499-ea82-080d1407dc03"
      },
      "execution_count": null,
      "outputs": [
        {
          "output_type": "stream",
          "name": "stdout",
          "text": [
            "pixel_values torch.Size([4, 3, 384, 384])\n",
            "labels torch.Size([4, 384, 384])\n"
          ]
        }
      ]
    },
    {
      "cell_type": "code",
      "source": [
        "batch[\"labels\"].shape"
      ],
      "metadata": {
        "colab": {
          "base_uri": "https://localhost:8080/"
        },
        "id": "IvXhw68FjdO5",
        "outputId": "375c9f68-42dc-4d21-ffd9-736002573b07"
      },
      "execution_count": null,
      "outputs": [
        {
          "output_type": "execute_result",
          "data": {
            "text/plain": [
              "torch.Size([4, 384, 384])"
            ]
          },
          "metadata": {},
          "execution_count": 20
        }
      ]
    },
    {
      "cell_type": "code",
      "source": [
        "!pip install xlrd"
      ],
      "metadata": {
        "colab": {
          "base_uri": "https://localhost:8080/"
        },
        "id": "PksccqXPj7Y2",
        "outputId": "67fb76e1-dcf2-42fb-f624-229e996f1595"
      },
      "execution_count": null,
      "outputs": [
        {
          "output_type": "stream",
          "name": "stdout",
          "text": [
            "Requirement already satisfied: xlrd in /usr/local/lib/python3.10/dist-packages (2.0.1)\n"
          ]
        }
      ]
    },
    {
      "cell_type": "code",
      "source": [
        "classes = pd.read_csv('/content/Ki-67-patches-dataset/class_dict_seg - class_dict_seg.csv')['name']\n",
        "id2label = classes.to_dict()\n",
        "label2id = {v: k for k, v in id2label.items()}"
      ],
      "metadata": {
        "id": "VbY2srpLjgUX"
      },
      "execution_count": null,
      "outputs": []
    },
    {
      "cell_type": "code",
      "source": [
        "model = SegformerForSemanticSegmentation.from_pretrained(\"nvidia/mit-b5\", ignore_mismatched_sizes=True,\n",
        "                                                         num_labels=len(id2label), id2label=id2label, label2id=label2id,\n",
        "                                                         reshape_last_stage=True)"
      ],
      "metadata": {
        "id": "YrJrmC8eqHwM",
        "colab": {
          "base_uri": "https://localhost:8080/",
          "height": 192,
          "referenced_widgets": [
            "6e0a2ba162264829a880cba5d58c0fb4",
            "547f4c8d086c4fad84c2690be74b87db",
            "ac17012f2a2c4731b770730a517bcd15",
            "2eff1d519c664151927859eecf682784",
            "28a593a7280641db9bdb11bdb9da9385",
            "40dfa01cad1142aba3ae30b562a4928f",
            "5d98933648cf4a96a2330580e17d6641",
            "6495c9779c7f41afb542c4f1d9ef5b2a",
            "603738a154f546ec8eda8b85bb821db6",
            "9a73c8d57e1842debd14bcdc6b0e5af3",
            "2ade50c9d5b546e2954155ad21de01a3",
            "0365b239708746ad9b72a6df51df9037",
            "3c96468dc5194334a66250c27527f43a",
            "4cf53dc280b6456ab80547c115f9afbc",
            "48d8b1e99b4e454d998fb481574c1992",
            "337c1cca7cd24d4181b7f30162b17a2f",
            "1e1b4446a233455583dd335fb6ccbb39",
            "c1a64245beb94ea99806c98358159863",
            "de4f945d91bd4758964c082c70d24881",
            "33addcf4f7c14711a69e3a0a65b76584",
            "7e908e2295ce407fa8be5ea3ab974843",
            "5b7b17270c5c44e092dff13cf54154d6"
          ]
        },
        "outputId": "e39a406f-43f6-432c-d82a-c55e06235280"
      },
      "execution_count": null,
      "outputs": [
        {
          "output_type": "display_data",
          "data": {
            "text/plain": [
              "Downloading (…)lve/main/config.json:   0%|          | 0.00/70.0k [00:00<?, ?B/s]"
            ],
            "application/vnd.jupyter.widget-view+json": {
              "version_major": 2,
              "version_minor": 0,
              "model_id": "6e0a2ba162264829a880cba5d58c0fb4"
            }
          },
          "metadata": {}
        },
        {
          "output_type": "display_data",
          "data": {
            "text/plain": [
              "Downloading pytorch_model.bin:   0%|          | 0.00/328M [00:00<?, ?B/s]"
            ],
            "application/vnd.jupyter.widget-view+json": {
              "version_major": 2,
              "version_minor": 0,
              "model_id": "0365b239708746ad9b72a6df51df9037"
            }
          },
          "metadata": {}
        },
        {
          "output_type": "stream",
          "name": "stderr",
          "text": [
            "Some weights of SegformerForSemanticSegmentation were not initialized from the model checkpoint at nvidia/mit-b5 and are newly initialized: ['decode_head.linear_c.1.proj.bias', 'decode_head.classifier.weight', 'decode_head.batch_norm.running_var', 'decode_head.linear_c.3.proj.weight', 'decode_head.classifier.bias', 'decode_head.linear_c.1.proj.weight', 'decode_head.linear_fuse.weight', 'decode_head.linear_c.0.proj.bias', 'decode_head.batch_norm.running_mean', 'decode_head.linear_c.2.proj.weight', 'decode_head.linear_c.0.proj.weight', 'decode_head.linear_c.2.proj.bias', 'decode_head.batch_norm.weight', 'decode_head.batch_norm.num_batches_tracked', 'decode_head.batch_norm.bias', 'decode_head.linear_c.3.proj.bias']\n",
            "You should probably TRAIN this model on a down-stream task to be able to use it for predictions and inference.\n"
          ]
        }
      ]
    },
    {
      "cell_type": "code",
      "source": [
        "optimizer = AdamW(model.parameters(), lr=0.00006)\n",
        "device = \"cuda\" if torch.cuda.is_available() else \"cpu\"\n",
        "\n",
        "model.to(device)\n",
        "print(\"Model Initialized!\")"
      ],
      "metadata": {
        "id": "1X9BKxrajqdz",
        "colab": {
          "base_uri": "https://localhost:8080/"
        },
        "outputId": "5b027982-a98d-4135-d629-54930da08256"
      },
      "execution_count": null,
      "outputs": [
        {
          "output_type": "stream",
          "name": "stdout",
          "text": [
            "Model Initialized!\n"
          ]
        },
        {
          "output_type": "stream",
          "name": "stderr",
          "text": [
            "/usr/local/lib/python3.10/dist-packages/transformers/optimization.py:411: FutureWarning: This implementation of AdamW is deprecated and will be removed in a future version. Use the PyTorch implementation torch.optim.AdamW instead, or set `no_deprecation_warning=True` to disable this warning\n",
            "  warnings.warn(\n"
          ]
        }
      ]
    },
    {
      "cell_type": "code",
      "source": [
        "print(batch[\"pixel_values\"].shape)\n",
        "print(batch[\"pixel_values\"].device)\n"
      ],
      "metadata": {
        "colab": {
          "base_uri": "https://localhost:8080/"
        },
        "id": "RVktyQ0SUPpD",
        "outputId": "7d427ce8-25bf-46bc-cf0b-c692cd3ab3d7"
      },
      "execution_count": null,
      "outputs": [
        {
          "output_type": "stream",
          "name": "stdout",
          "text": [
            "torch.Size([4, 3, 384, 384])\n",
            "cpu\n"
          ]
        }
      ]
    },
    {
      "cell_type": "code",
      "source": [
        "print(model.device)\n"
      ],
      "metadata": {
        "colab": {
          "base_uri": "https://localhost:8080/"
        },
        "id": "mNPSiASrWC8P",
        "outputId": "083dec53-d5aa-4696-dd5a-1717920cd3fa"
      },
      "execution_count": null,
      "outputs": [
        {
          "output_type": "stream",
          "name": "stdout",
          "text": [
            "cuda:0\n"
          ]
        }
      ]
    },
    {
      "cell_type": "code",
      "source": [
        "import os\n",
        "os.environ['CUDA_LAUNCH_BLOCKING'] = '1'\n"
      ],
      "metadata": {
        "id": "At8vwjR9XQoj"
      },
      "execution_count": null,
      "outputs": []
    },
    {
      "cell_type": "code",
      "source": [
        "device = \"cuda\" if torch.cuda.is_available() else \"cpu\"\n",
        "\n",
        "# Move the model to the desired device (GPU if available, otherwise CPU)\n",
        "model = model.to(device)\n",
        "\n",
        "# Move the entire batch (including \"pixel_values\" and \"labels\") to the desired device\n",
        "batch = {key: value.to(device) for key, value in batch.items()}\n",
        "\n",
        "# Now, all tensors in the batch, including \"pixel_values\" and \"labels\", are on the same device as the model.\n",
        "\n",
        "# Rest of your code ...\n"
      ],
      "metadata": {
        "colab": {
          "base_uri": "https://localhost:8080/",
          "height": 495
        },
        "id": "8Cscg9osWs0M",
        "outputId": "7d0d1b38-9c34-48de-bc30-0a9ba1573d44"
      },
      "execution_count": null,
      "outputs": [
        {
          "output_type": "error",
          "ename": "RuntimeError",
          "evalue": "ignored",
          "traceback": [
            "\u001b[0;31m---------------------------------------------------------------------------\u001b[0m",
            "\u001b[0;31mRuntimeError\u001b[0m                              Traceback (most recent call last)",
            "\u001b[0;32m<ipython-input-68-fa17a6903bcb>\u001b[0m in \u001b[0;36m<cell line: 7>\u001b[0;34m()\u001b[0m\n\u001b[1;32m      5\u001b[0m \u001b[0;34m\u001b[0m\u001b[0m\n\u001b[1;32m      6\u001b[0m \u001b[0;31m# Move the entire batch (including \"pixel_values\" and \"labels\") to the desired device\u001b[0m\u001b[0;34m\u001b[0m\u001b[0;34m\u001b[0m\u001b[0m\n\u001b[0;32m----> 7\u001b[0;31m \u001b[0mbatch\u001b[0m \u001b[0;34m=\u001b[0m \u001b[0;34m{\u001b[0m\u001b[0mkey\u001b[0m\u001b[0;34m:\u001b[0m \u001b[0mvalue\u001b[0m\u001b[0;34m.\u001b[0m\u001b[0mto\u001b[0m\u001b[0;34m(\u001b[0m\u001b[0mdevice\u001b[0m\u001b[0;34m)\u001b[0m \u001b[0;32mfor\u001b[0m \u001b[0mkey\u001b[0m\u001b[0;34m,\u001b[0m \u001b[0mvalue\u001b[0m \u001b[0;32min\u001b[0m \u001b[0mbatch\u001b[0m\u001b[0;34m.\u001b[0m\u001b[0mitems\u001b[0m\u001b[0;34m(\u001b[0m\u001b[0;34m)\u001b[0m\u001b[0;34m}\u001b[0m\u001b[0;34m\u001b[0m\u001b[0;34m\u001b[0m\u001b[0m\n\u001b[0m\u001b[1;32m      8\u001b[0m \u001b[0;34m\u001b[0m\u001b[0m\n\u001b[1;32m      9\u001b[0m \u001b[0;31m# Now, all tensors in the batch, including \"pixel_values\" and \"labels\", are on the same device as the model.\u001b[0m\u001b[0;34m\u001b[0m\u001b[0;34m\u001b[0m\u001b[0m\n",
            "\u001b[0;32m<ipython-input-68-fa17a6903bcb>\u001b[0m in \u001b[0;36m<dictcomp>\u001b[0;34m(.0)\u001b[0m\n\u001b[1;32m      5\u001b[0m \u001b[0;34m\u001b[0m\u001b[0m\n\u001b[1;32m      6\u001b[0m \u001b[0;31m# Move the entire batch (including \"pixel_values\" and \"labels\") to the desired device\u001b[0m\u001b[0;34m\u001b[0m\u001b[0;34m\u001b[0m\u001b[0m\n\u001b[0;32m----> 7\u001b[0;31m \u001b[0mbatch\u001b[0m \u001b[0;34m=\u001b[0m \u001b[0;34m{\u001b[0m\u001b[0mkey\u001b[0m\u001b[0;34m:\u001b[0m \u001b[0mvalue\u001b[0m\u001b[0;34m.\u001b[0m\u001b[0mto\u001b[0m\u001b[0;34m(\u001b[0m\u001b[0mdevice\u001b[0m\u001b[0;34m)\u001b[0m \u001b[0;32mfor\u001b[0m \u001b[0mkey\u001b[0m\u001b[0;34m,\u001b[0m \u001b[0mvalue\u001b[0m \u001b[0;32min\u001b[0m \u001b[0mbatch\u001b[0m\u001b[0;34m.\u001b[0m\u001b[0mitems\u001b[0m\u001b[0;34m(\u001b[0m\u001b[0;34m)\u001b[0m\u001b[0;34m}\u001b[0m\u001b[0;34m\u001b[0m\u001b[0;34m\u001b[0m\u001b[0m\n\u001b[0m\u001b[1;32m      8\u001b[0m \u001b[0;34m\u001b[0m\u001b[0m\n\u001b[1;32m      9\u001b[0m \u001b[0;31m# Now, all tensors in the batch, including \"pixel_values\" and \"labels\", are on the same device as the model.\u001b[0m\u001b[0;34m\u001b[0m\u001b[0;34m\u001b[0m\u001b[0m\n",
            "\u001b[0;31mRuntimeError\u001b[0m: CUDA error: device-side assert triggered\nCUDA kernel errors might be asynchronously reported at some other API call, so the stacktrace below might be incorrect.\nFor debugging consider passing CUDA_LAUNCH_BLOCKING=1.\nCompile with `TORCH_USE_CUDA_DSA` to enable device-side assertions.\n"
          ]
        }
      ]
    },
    {
      "cell_type": "code",
      "source": [
        "import torch\n",
        "\n",
        "print(torch.cuda.is_available())\n",
        "print(torch.version.cuda)"
      ],
      "metadata": {
        "colab": {
          "base_uri": "https://localhost:8080/"
        },
        "id": "mBR9oTL5X9rC",
        "outputId": "983d3590-f8ea-4588-8326-5a5b5fa1df94"
      },
      "execution_count": null,
      "outputs": [
        {
          "output_type": "stream",
          "name": "stdout",
          "text": [
            "True\n",
            "11.8\n"
          ]
        }
      ]
    },
    {
      "cell_type": "code",
      "source": [
        "device = \"cuda\" if torch.cuda.is_available() else \"cpu\"\n",
        "batch = {key: value.to(device) for key, value in batch.items()}"
      ],
      "metadata": {
        "colab": {
          "base_uri": "https://localhost:8080/",
          "height": 321
        },
        "id": "3withsT6Upch",
        "outputId": "1b12ee02-91d8-4e2f-ea56-65ea877624ec"
      },
      "execution_count": null,
      "outputs": [
        {
          "output_type": "error",
          "ename": "RuntimeError",
          "evalue": "ignored",
          "traceback": [
            "\u001b[0;31m---------------------------------------------------------------------------\u001b[0m",
            "\u001b[0;31mRuntimeError\u001b[0m                              Traceback (most recent call last)",
            "\u001b[0;32m<ipython-input-63-e46d2e2420fd>\u001b[0m in \u001b[0;36m<cell line: 2>\u001b[0;34m()\u001b[0m\n\u001b[1;32m      1\u001b[0m \u001b[0mdevice\u001b[0m \u001b[0;34m=\u001b[0m \u001b[0;34m\"cuda\"\u001b[0m \u001b[0;32mif\u001b[0m \u001b[0mtorch\u001b[0m\u001b[0;34m.\u001b[0m\u001b[0mcuda\u001b[0m\u001b[0;34m.\u001b[0m\u001b[0mis_available\u001b[0m\u001b[0;34m(\u001b[0m\u001b[0;34m)\u001b[0m \u001b[0;32melse\u001b[0m \u001b[0;34m\"cpu\"\u001b[0m\u001b[0;34m\u001b[0m\u001b[0;34m\u001b[0m\u001b[0m\n\u001b[0;32m----> 2\u001b[0;31m \u001b[0mbatch\u001b[0m \u001b[0;34m=\u001b[0m \u001b[0;34m{\u001b[0m\u001b[0mkey\u001b[0m\u001b[0;34m:\u001b[0m \u001b[0mvalue\u001b[0m\u001b[0;34m.\u001b[0m\u001b[0mto\u001b[0m\u001b[0;34m(\u001b[0m\u001b[0mdevice\u001b[0m\u001b[0;34m)\u001b[0m \u001b[0;32mfor\u001b[0m \u001b[0mkey\u001b[0m\u001b[0;34m,\u001b[0m \u001b[0mvalue\u001b[0m \u001b[0;32min\u001b[0m \u001b[0mbatch\u001b[0m\u001b[0;34m.\u001b[0m\u001b[0mitems\u001b[0m\u001b[0;34m(\u001b[0m\u001b[0;34m)\u001b[0m\u001b[0;34m}\u001b[0m\u001b[0;34m\u001b[0m\u001b[0;34m\u001b[0m\u001b[0m\n\u001b[0m",
            "\u001b[0;32m<ipython-input-63-e46d2e2420fd>\u001b[0m in \u001b[0;36m<dictcomp>\u001b[0;34m(.0)\u001b[0m\n\u001b[1;32m      1\u001b[0m \u001b[0mdevice\u001b[0m \u001b[0;34m=\u001b[0m \u001b[0;34m\"cuda\"\u001b[0m \u001b[0;32mif\u001b[0m \u001b[0mtorch\u001b[0m\u001b[0;34m.\u001b[0m\u001b[0mcuda\u001b[0m\u001b[0;34m.\u001b[0m\u001b[0mis_available\u001b[0m\u001b[0;34m(\u001b[0m\u001b[0;34m)\u001b[0m \u001b[0;32melse\u001b[0m \u001b[0;34m\"cpu\"\u001b[0m\u001b[0;34m\u001b[0m\u001b[0;34m\u001b[0m\u001b[0m\n\u001b[0;32m----> 2\u001b[0;31m \u001b[0mbatch\u001b[0m \u001b[0;34m=\u001b[0m \u001b[0;34m{\u001b[0m\u001b[0mkey\u001b[0m\u001b[0;34m:\u001b[0m \u001b[0mvalue\u001b[0m\u001b[0;34m.\u001b[0m\u001b[0mto\u001b[0m\u001b[0;34m(\u001b[0m\u001b[0mdevice\u001b[0m\u001b[0;34m)\u001b[0m \u001b[0;32mfor\u001b[0m \u001b[0mkey\u001b[0m\u001b[0;34m,\u001b[0m \u001b[0mvalue\u001b[0m \u001b[0;32min\u001b[0m \u001b[0mbatch\u001b[0m\u001b[0;34m.\u001b[0m\u001b[0mitems\u001b[0m\u001b[0;34m(\u001b[0m\u001b[0;34m)\u001b[0m\u001b[0;34m}\u001b[0m\u001b[0;34m\u001b[0m\u001b[0;34m\u001b[0m\u001b[0m\n\u001b[0m",
            "\u001b[0;31mRuntimeError\u001b[0m: CUDA error: device-side assert triggered\nCUDA kernel errors might be asynchronously reported at some other API call, so the stacktrace below might be incorrect.\nFor debugging consider passing CUDA_LAUNCH_BLOCKING=1.\nCompile with `TORCH_USE_CUDA_DSA` to enable device-side assertions.\n"
          ]
        }
      ]
    },
    {
      "cell_type": "code",
      "source": [
        "for epoch in range(1, 11):  # loop over the dataset multiple times\n",
        "    print(\"Epoch:\", epoch)\n",
        "    pbar = tqdm(train_dataloader)\n",
        "    accuracies = []\n",
        "    losses = []\n",
        "    val_accuracies = []\n",
        "    val_losses = []\n",
        "    model.train()\n",
        "    for idx, batch in enumerate(pbar):\n",
        "        # get the inputs;\n",
        "        if batch[\"pixel_values\"].device == device:\n",
        "            pixel_values = batch[\"pixel_values\"]\n",
        "        else:\n",
        "            pixel_values = batch[\"pixel_values\"].to(device)\n",
        "        labels = batch[\"labels\"].to(device)\n",
        "\n",
        "        labels[np.where(labels==0)]=0\n",
        "        labels[np.where(labels==255)]=1\n",
        "        labels[np.where(labels==125)]=2\n",
        "\n",
        "        # zero the parameter gradients\n",
        "        optimizer.zero_grad()\n",
        "\n",
        "        # forward\n",
        "\n",
        "        outputs = model(pixel_values=pixel_values, labels=labels)\n",
        "\n",
        "\n",
        "        # evaluate\n",
        "        scale = torch.tensor(0.5)\n",
        "        scale = torch.Tensor([(1 / scale)]).numpy().astype(np.float64)[0]\n",
        "        upsampled_logits = nn.functional.interpolate(outputs.logits, mode=\"billinear\", align_corners=False, scale_factor=scale)\n",
        "        predicted = upsampled_logits.argmax(dim=1)\n",
        "\n",
        "        mask = (labels) # we don't include the background class in the accuracy calculation\n",
        "        pred_labels = predicted[mask].detach().numpy()\n",
        "        true_labels = labels[mask].detach().numpy()\n",
        "        accuracy = accuracy_score(pred_labels, true_labels)\n",
        "        loss = outputs.loss\n",
        "        accuracies.append(accuracy)\n",
        "        losses.append(loss.item())\n",
        "        pbar.set_postfix({'Batch': idx, 'Pixel-wise accuracy': sum(accuracies)/len(accuracies), 'Loss': sum(losses)/len(losses)})\n",
        "\n",
        "        # backward + optimize\n",
        "        loss.backward()\n",
        "        optimizer.step()\n",
        "    else:\n",
        "        model.eval()\n",
        "        with torch.no_grad():\n",
        "            for idx, batch in enumerate(valid_dataloader):\n",
        "                pixel_values = batch[\"pixel_values\"].to(device)\n",
        "                labels = batch[\"labels\"].to(device)\n",
        "\n",
        "                outputs = model(pixel_values=pixel_values, labels=labels)\n",
        "                upsampled_logits = nn.functional.interpolate(outputs, size=labels.shape[-2:], mode=\"bilinear\", align_corners=False)\n",
        "                predicted = upsampled_logits.argmax(dim=1)\n",
        "\n",
        "                mask = (labels)\n",
        "                pred_labels = predicted[mask].detach().cpu().numpy()\n",
        "                true_labels = labels[mask].detach().cpu().numpy()\n",
        "                accuracy = accuracy_score(pred_labels, true_labels)\n",
        "                val_loss = outputs.loss\n",
        "                val_accuracies.append(accuracy)\n",
        "                val_losses.append(val_loss.item())\n",
        "\n",
        "    print(f\"Train Pixel-wise accuracy: {sum(accuracies)/len(accuracies)}\\\n",
        "         Train Loss: {sum(losses)/len(losses)}\\\n",
        "         Val Pixel-wise accuracy: {sum(val_accuracies)/len(val_accuracies)}\\\n",
        "         Val Loss: {sum(val_losses)/len(val_losses)}\")"
      ],
      "metadata": {
        "id": "wR6Je-AUrDvp",
        "colab": {
          "base_uri": "https://localhost:8080/",
          "height": 353,
          "referenced_widgets": [
            "b50d9e646edd43018121a7ea32928427",
            "f1bcb746932d49028ff9d716f58a0840",
            "508f218bc0324bd7b7b6c4e956091f42",
            "57f5c6ae5e344f789c9566eb2ca93780",
            "36cd8c3cbd7245d7b80e4363c7426866",
            "7785a226c99e41b0afec956db30c0414",
            "91bfa57ffe1742118cb75ed4b60f9f73",
            "c4d1c558aa074507aa20e75387bedaae",
            "e3e88cf76cf2476ea48a4afe31aa5506",
            "4b3f14e2d25f4459b2a40aaf903830ea",
            "db4e5e0e29cd4cb685b79a9b9f7746cb"
          ]
        },
        "outputId": "41ee65c0-067e-46aa-b900-5be5b901be25"
      },
      "execution_count": null,
      "outputs": [
        {
          "output_type": "stream",
          "name": "stdout",
          "text": [
            "Epoch: 1\n"
          ]
        },
        {
          "output_type": "display_data",
          "data": {
            "text/plain": [
              "  0%|          | 0/27 [00:00<?, ?it/s]"
            ],
            "application/vnd.jupyter.widget-view+json": {
              "version_major": 2,
              "version_minor": 0,
              "model_id": "b50d9e646edd43018121a7ea32928427"
            }
          },
          "metadata": {}
        },
        {
          "output_type": "error",
          "ename": "RuntimeError",
          "evalue": "ignored",
          "traceback": [
            "\u001b[0;31m---------------------------------------------------------------------------\u001b[0m",
            "\u001b[0;31mRuntimeError\u001b[0m                              Traceback (most recent call last)",
            "\u001b[0;32m<ipython-input-64-c09c48c9ebfd>\u001b[0m in \u001b[0;36m<cell line: 1>\u001b[0;34m()\u001b[0m\n\u001b[1;32m     12\u001b[0m             \u001b[0mpixel_values\u001b[0m \u001b[0;34m=\u001b[0m \u001b[0mbatch\u001b[0m\u001b[0;34m[\u001b[0m\u001b[0;34m\"pixel_values\"\u001b[0m\u001b[0;34m]\u001b[0m\u001b[0;34m\u001b[0m\u001b[0;34m\u001b[0m\u001b[0m\n\u001b[1;32m     13\u001b[0m         \u001b[0;32melse\u001b[0m\u001b[0;34m:\u001b[0m\u001b[0;34m\u001b[0m\u001b[0;34m\u001b[0m\u001b[0m\n\u001b[0;32m---> 14\u001b[0;31m             \u001b[0mpixel_values\u001b[0m \u001b[0;34m=\u001b[0m \u001b[0mbatch\u001b[0m\u001b[0;34m[\u001b[0m\u001b[0;34m\"pixel_values\"\u001b[0m\u001b[0;34m]\u001b[0m\u001b[0;34m.\u001b[0m\u001b[0mto\u001b[0m\u001b[0;34m(\u001b[0m\u001b[0mdevice\u001b[0m\u001b[0;34m)\u001b[0m\u001b[0;34m\u001b[0m\u001b[0;34m\u001b[0m\u001b[0m\n\u001b[0m\u001b[1;32m     15\u001b[0m         \u001b[0mlabels\u001b[0m \u001b[0;34m=\u001b[0m \u001b[0mbatch\u001b[0m\u001b[0;34m[\u001b[0m\u001b[0;34m\"labels\"\u001b[0m\u001b[0;34m]\u001b[0m\u001b[0;34m.\u001b[0m\u001b[0mto\u001b[0m\u001b[0;34m(\u001b[0m\u001b[0mdevice\u001b[0m\u001b[0;34m)\u001b[0m\u001b[0;34m\u001b[0m\u001b[0;34m\u001b[0m\u001b[0m\n\u001b[1;32m     16\u001b[0m \u001b[0;34m\u001b[0m\u001b[0m\n",
            "\u001b[0;31mRuntimeError\u001b[0m: CUDA error: device-side assert triggered\nCUDA kernel errors might be asynchronously reported at some other API call, so the stacktrace below might be incorrect.\nFor debugging consider passing CUDA_LAUNCH_BLOCKING=1.\nCompile with `TORCH_USE_CUDA_DSA` to enable device-side assertions.\n"
          ]
        }
      ]
    },
    {
      "cell_type": "code",
      "source": [],
      "metadata": {
        "id": "jncLntsOS6Jq"
      },
      "execution_count": null,
      "outputs": []
    }
  ]
}