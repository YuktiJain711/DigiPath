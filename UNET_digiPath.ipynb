{
  "nbformat": 4,
  "nbformat_minor": 0,
  "metadata": {
    "colab": {
      "provenance": [],
      "gpuType": "T4"
    },
    "kernelspec": {
      "name": "python3",
      "display_name": "Python 3"
    },
    "language_info": {
      "name": "python"
    },
    "accelerator": "GPU"
  },
  "cells": [
    {
      "cell_type": "code",
      "execution_count": 2,
      "metadata": {
        "colab": {
          "base_uri": "https://localhost:8080/"
        },
        "id": "EXMd-LJKtU1i",
        "outputId": "c1e92455-db23-4b14-c48e-f927921d2e98"
      },
      "outputs": [
        {
          "output_type": "stream",
          "name": "stdout",
          "text": [
            "Mounted at /content/gdrive\n"
          ]
        }
      ],
      "source": [
        "from google.colab import drive\n",
        "drive.mount('/content/gdrive')"
      ]
    },
    {
      "cell_type": "code",
      "source": [
        "Path = \"/content/gdrive/MyDrive/digipath/\""
      ],
      "metadata": {
        "id": "-CL48Tiqu4An"
      },
      "execution_count": 3,
      "outputs": []
    },
    {
      "cell_type": "code",
      "source": [
        "import os\n",
        "import numpy as np\n",
        "import cv2\n",
        "from glob import glob\n",
        "import tensorflow as tf\n",
        "import matplotlib.pyplot as plt\n",
        "from sklearn.model_selection import train_test_split"
      ],
      "metadata": {
        "id": "Y4XsuJBdvKSx"
      },
      "execution_count": 4,
      "outputs": []
    },
    {
      "cell_type": "code",
      "source": [
        "from tensorflow.keras.layers import Conv2D, Activation, BatchNormalization\n",
        "from tensorflow.keras.layers import UpSampling2D, Input, Concatenate\n",
        "from tensorflow.keras.models import Model\n",
        "from tensorflow.keras.applications import MobileNetV2\n",
        "from tensorflow.keras.callbacks import EarlyStopping, ReduceLROnPlateau\n",
        "from tensorflow.keras.metrics import Recall, Precision\n",
        "from tensorflow.keras import backend as K"
      ],
      "metadata": {
        "id": "GfqBKwlOvQK2"
      },
      "execution_count": 5,
      "outputs": []
    },
    {
      "cell_type": "code",
      "source": [
        "IMAGE_SIZE = 384"
      ],
      "metadata": {
        "id": "AgW1xdOjvSqd"
      },
      "execution_count": 6,
      "outputs": []
    },
    {
      "cell_type": "code",
      "source": [
        "np.random.seed(32)\n",
        "tf.random.set_seed(32)"
      ],
      "metadata": {
        "id": "dKPews_1vVTX"
      },
      "execution_count": 7,
      "outputs": []
    },
    {
      "cell_type": "markdown",
      "source": [
        "Loading the Dataset"
      ],
      "metadata": {
        "id": "_CARq1CWvgGE"
      }
    },
    {
      "cell_type": "code",
      "source": [
        "def load_data(path, split=0.1):\n",
        "    images = sorted(glob(os.path.join(path, \"images/*\")))\n",
        "    masks = sorted(glob(os.path.join(path, \"segmentations/*\")))\n",
        "\n",
        "    total_size = len(images)\n",
        "    valid_size = int(split * total_size)\n",
        "    test_size = int(split * total_size)\n",
        "\n",
        "    train_x, valid_x = train_test_split(images, test_size=valid_size, random_state=42)\n",
        "    train_y, valid_y = train_test_split(masks, test_size=valid_size, random_state=42)\n",
        "\n",
        "    train_x, test_x = train_test_split(train_x, test_size=test_size, random_state=42)\n",
        "    train_y, test_y = train_test_split(train_y, test_size=test_size, random_state=42)\n",
        "\n",
        "    return (train_x, train_y), (valid_x, valid_y), (test_x, test_y)"
      ],
      "metadata": {
        "id": "Ck7uqmYOvXhS"
      },
      "execution_count": 8,
      "outputs": []
    },
    {
      "cell_type": "code",
      "source": [
        "(train_x, train_y), (valid_x, valid_y), (test_x, test_y) = load_data(Path)\n",
        "\n",
        "print(\"Training data: \", len(train_x))\n",
        "print(\"val data: \", len(valid_x))\n",
        "print(\"Test data: \", len(test_x))"
      ],
      "metadata": {
        "colab": {
          "base_uri": "https://localhost:8080/"
        },
        "id": "UbnPrdY1vkQW",
        "outputId": "dc500963-b5f8-4bd4-b1e4-078837371323"
      },
      "execution_count": 9,
      "outputs": [
        {
          "output_type": "stream",
          "name": "stdout",
          "text": [
            "Training data:  96\n",
            "val data:  12\n",
            "Test data:  12\n"
          ]
        }
      ]
    },
    {
      "cell_type": "code",
      "source": [
        "H = 384\n",
        "W = 384\n",
        "def read_image(x):\n",
        "    x = cv2.imread(x, cv2.IMREAD_COLOR)\n",
        "    x = cv2.resize(x, (W, H))\n",
        "    x = x / 255.0\n",
        "    x = x.astype(np.float32)\n",
        "    return x\n",
        "\n",
        "def read_mask(x):\n",
        "    x = cv2.imread(x, cv2.IMREAD_GRAYSCALE)\n",
        "    x = cv2.resize(x, (W, H))\n",
        "    x[x==255]=1 # blue: class label: 1\n",
        "    x[x==125]=2 # brown: class label: 2\n",
        "    # x = x - 1\n",
        "    # print(np.unique(x))\n",
        "    x = x.astype(np.int32)\n",
        "    return x\n",
        "\n",
        "def tf_dataset(x, y, batch=8):\n",
        "    dataset = tf.data.Dataset.from_tensor_slices((x, y))\n",
        "    dataset = dataset.shuffle(buffer_size=5000)\n",
        "    dataset = dataset.map(preprocess)\n",
        "    dataset = dataset.batch(batch)\n",
        "    dataset = dataset.repeat()\n",
        "    dataset = dataset.prefetch(2)\n",
        "    return dataset\n",
        "\n",
        "def preprocess(x, y):\n",
        "    def f(x, y):\n",
        "        x = x.decode()\n",
        "        y = y.decode()\n",
        "\n",
        "        image = read_image(x)\n",
        "        mask = read_mask(y)\n",
        "\n",
        "        return image, mask\n",
        "\n",
        "    image, mask = tf.numpy_function(f, [x, y], [tf.float32, tf.int32])\n",
        "    mask = tf.one_hot(mask, 3, dtype=tf.int32)\n",
        "    image.set_shape([H, W, 3])\n",
        "    mask.set_shape([H, W, 3])\n",
        "\n",
        "    return image, mask"
      ],
      "metadata": {
        "id": "pbetaXC3voCT"
      },
      "execution_count": 10,
      "outputs": []
    },
    {
      "cell_type": "code",
      "source": [
        "(train_x, train_y), (valid_x, valid_y), (test_x, test_y) = load_data(Path)\n",
        "print(f\"Dataset: Train: {len(train_x)} - Valid: {len(valid_x)} - Test: {len(test_x)}\")"
      ],
      "metadata": {
        "colab": {
          "base_uri": "https://localhost:8080/"
        },
        "id": "Zx_WUEAUqyqT",
        "outputId": "6607ab4b-7942-40fa-ae7f-394f100c3531"
      },
      "execution_count": 12,
      "outputs": [
        {
          "output_type": "stream",
          "name": "stdout",
          "text": [
            "Dataset: Train: 96 - Valid: 12 - Test: 12\n"
          ]
        }
      ]
    },
    {
      "cell_type": "code",
      "source": [
        "from tensorflow.keras.layers import Input, Conv2D, BatchNormalization, Activation, MaxPool2D, UpSampling2D, Concatenate\n",
        "from tensorflow.keras.models import Model\n",
        "\n",
        "def conv_block(inputs, filters, pool=True):\n",
        "    x = Conv2D(filters, 3, padding=\"same\")(inputs)\n",
        "    x = BatchNormalization()(x)\n",
        "    x = Activation(\"relu\")(x)\n",
        "\n",
        "    x = Conv2D(filters, 3, padding=\"same\")(x)\n",
        "    x = BatchNormalization()(x)\n",
        "    x = Activation(\"relu\")(x)\n",
        "\n",
        "    if pool == True:\n",
        "        p = MaxPool2D((2, 2))(x)\n",
        "        return x, p\n",
        "    else:\n",
        "        return x\n",
        "\n",
        "def build_unet(shape, num_classes):\n",
        "    inputs = Input(shape)\n",
        "\n",
        "    \"\"\" Encoder \"\"\"\n",
        "    x1, p1 = conv_block(inputs, 16, pool=True)\n",
        "    x2, p2 = conv_block(p1, 32, pool=True)\n",
        "    x3, p3 = conv_block(p2, 48, pool=True)\n",
        "    x4, p4 = conv_block(p3, 64, pool=True)\n",
        "\n",
        "    \"\"\" Bridge \"\"\"\n",
        "    b1 = conv_block(p4, 128, pool=False)\n",
        "\n",
        "    \"\"\" Decoder \"\"\"\n",
        "    u1 = UpSampling2D((2, 2), interpolation=\"bilinear\")(b1)\n",
        "    c1 = Concatenate()([u1, x4])\n",
        "    x5 = conv_block(c1, 64, pool=False)\n",
        "\n",
        "    u2 = UpSampling2D((2, 2), interpolation=\"bilinear\")(x5)\n",
        "    c2 = Concatenate()([u2, x3])\n",
        "    x6 = conv_block(c2, 48, pool=False)\n",
        "\n",
        "    u3 = UpSampling2D((2, 2), interpolation=\"bilinear\")(x6)\n",
        "    c3 = Concatenate()([u3, x2])\n",
        "    x7 = conv_block(c3, 32, pool=False)\n",
        "\n",
        "    u4 = UpSampling2D((2, 2), interpolation=\"bilinear\")(x7)\n",
        "    c4 = Concatenate()([u4, x1])\n",
        "    x8 = conv_block(c4, 16, pool=False)\n",
        "\n",
        "    \"\"\" Output layer \"\"\"\n",
        "    output = Conv2D(num_classes, 1, padding=\"same\", activation=\"softmax\")(x8)\n",
        "\n",
        "    return Model(inputs, output)\n",
        "\n",
        "model = build_unet((IMAGE_SIZE, IMAGE_SIZE, 3), 3)\n",
        "model.summary()"
      ],
      "metadata": {
        "colab": {
          "base_uri": "https://localhost:8080/"
        },
        "id": "QDYkYy2axPfR",
        "outputId": "0f8bfc67-bd28-4b18-9245-730a46222f9f"
      },
      "execution_count": 13,
      "outputs": [
        {
          "output_type": "stream",
          "name": "stdout",
          "text": [
            "Model: \"model\"\n",
            "__________________________________________________________________________________________________\n",
            " Layer (type)                   Output Shape         Param #     Connected to                     \n",
            "==================================================================================================\n",
            " input_1 (InputLayer)           [(None, 384, 384, 3  0           []                               \n",
            "                                )]                                                                \n",
            "                                                                                                  \n",
            " conv2d (Conv2D)                (None, 384, 384, 16  448         ['input_1[0][0]']                \n",
            "                                )                                                                 \n",
            "                                                                                                  \n",
            " batch_normalization (BatchNorm  (None, 384, 384, 16  64         ['conv2d[0][0]']                 \n",
            " alization)                     )                                                                 \n",
            "                                                                                                  \n",
            " activation (Activation)        (None, 384, 384, 16  0           ['batch_normalization[0][0]']    \n",
            "                                )                                                                 \n",
            "                                                                                                  \n",
            " conv2d_1 (Conv2D)              (None, 384, 384, 16  2320        ['activation[0][0]']             \n",
            "                                )                                                                 \n",
            "                                                                                                  \n",
            " batch_normalization_1 (BatchNo  (None, 384, 384, 16  64         ['conv2d_1[0][0]']               \n",
            " rmalization)                   )                                                                 \n",
            "                                                                                                  \n",
            " activation_1 (Activation)      (None, 384, 384, 16  0           ['batch_normalization_1[0][0]']  \n",
            "                                )                                                                 \n",
            "                                                                                                  \n",
            " max_pooling2d (MaxPooling2D)   (None, 192, 192, 16  0           ['activation_1[0][0]']           \n",
            "                                )                                                                 \n",
            "                                                                                                  \n",
            " conv2d_2 (Conv2D)              (None, 192, 192, 32  4640        ['max_pooling2d[0][0]']          \n",
            "                                )                                                                 \n",
            "                                                                                                  \n",
            " batch_normalization_2 (BatchNo  (None, 192, 192, 32  128        ['conv2d_2[0][0]']               \n",
            " rmalization)                   )                                                                 \n",
            "                                                                                                  \n",
            " activation_2 (Activation)      (None, 192, 192, 32  0           ['batch_normalization_2[0][0]']  \n",
            "                                )                                                                 \n",
            "                                                                                                  \n",
            " conv2d_3 (Conv2D)              (None, 192, 192, 32  9248        ['activation_2[0][0]']           \n",
            "                                )                                                                 \n",
            "                                                                                                  \n",
            " batch_normalization_3 (BatchNo  (None, 192, 192, 32  128        ['conv2d_3[0][0]']               \n",
            " rmalization)                   )                                                                 \n",
            "                                                                                                  \n",
            " activation_3 (Activation)      (None, 192, 192, 32  0           ['batch_normalization_3[0][0]']  \n",
            "                                )                                                                 \n",
            "                                                                                                  \n",
            " max_pooling2d_1 (MaxPooling2D)  (None, 96, 96, 32)  0           ['activation_3[0][0]']           \n",
            "                                                                                                  \n",
            " conv2d_4 (Conv2D)              (None, 96, 96, 48)   13872       ['max_pooling2d_1[0][0]']        \n",
            "                                                                                                  \n",
            " batch_normalization_4 (BatchNo  (None, 96, 96, 48)  192         ['conv2d_4[0][0]']               \n",
            " rmalization)                                                                                     \n",
            "                                                                                                  \n",
            " activation_4 (Activation)      (None, 96, 96, 48)   0           ['batch_normalization_4[0][0]']  \n",
            "                                                                                                  \n",
            " conv2d_5 (Conv2D)              (None, 96, 96, 48)   20784       ['activation_4[0][0]']           \n",
            "                                                                                                  \n",
            " batch_normalization_5 (BatchNo  (None, 96, 96, 48)  192         ['conv2d_5[0][0]']               \n",
            " rmalization)                                                                                     \n",
            "                                                                                                  \n",
            " activation_5 (Activation)      (None, 96, 96, 48)   0           ['batch_normalization_5[0][0]']  \n",
            "                                                                                                  \n",
            " max_pooling2d_2 (MaxPooling2D)  (None, 48, 48, 48)  0           ['activation_5[0][0]']           \n",
            "                                                                                                  \n",
            " conv2d_6 (Conv2D)              (None, 48, 48, 64)   27712       ['max_pooling2d_2[0][0]']        \n",
            "                                                                                                  \n",
            " batch_normalization_6 (BatchNo  (None, 48, 48, 64)  256         ['conv2d_6[0][0]']               \n",
            " rmalization)                                                                                     \n",
            "                                                                                                  \n",
            " activation_6 (Activation)      (None, 48, 48, 64)   0           ['batch_normalization_6[0][0]']  \n",
            "                                                                                                  \n",
            " conv2d_7 (Conv2D)              (None, 48, 48, 64)   36928       ['activation_6[0][0]']           \n",
            "                                                                                                  \n",
            " batch_normalization_7 (BatchNo  (None, 48, 48, 64)  256         ['conv2d_7[0][0]']               \n",
            " rmalization)                                                                                     \n",
            "                                                                                                  \n",
            " activation_7 (Activation)      (None, 48, 48, 64)   0           ['batch_normalization_7[0][0]']  \n",
            "                                                                                                  \n",
            " max_pooling2d_3 (MaxPooling2D)  (None, 24, 24, 64)  0           ['activation_7[0][0]']           \n",
            "                                                                                                  \n",
            " conv2d_8 (Conv2D)              (None, 24, 24, 128)  73856       ['max_pooling2d_3[0][0]']        \n",
            "                                                                                                  \n",
            " batch_normalization_8 (BatchNo  (None, 24, 24, 128)  512        ['conv2d_8[0][0]']               \n",
            " rmalization)                                                                                     \n",
            "                                                                                                  \n",
            " activation_8 (Activation)      (None, 24, 24, 128)  0           ['batch_normalization_8[0][0]']  \n",
            "                                                                                                  \n",
            " conv2d_9 (Conv2D)              (None, 24, 24, 128)  147584      ['activation_8[0][0]']           \n",
            "                                                                                                  \n",
            " batch_normalization_9 (BatchNo  (None, 24, 24, 128)  512        ['conv2d_9[0][0]']               \n",
            " rmalization)                                                                                     \n",
            "                                                                                                  \n",
            " activation_9 (Activation)      (None, 24, 24, 128)  0           ['batch_normalization_9[0][0]']  \n",
            "                                                                                                  \n",
            " up_sampling2d (UpSampling2D)   (None, 48, 48, 128)  0           ['activation_9[0][0]']           \n",
            "                                                                                                  \n",
            " concatenate (Concatenate)      (None, 48, 48, 192)  0           ['up_sampling2d[0][0]',          \n",
            "                                                                  'activation_7[0][0]']           \n",
            "                                                                                                  \n",
            " conv2d_10 (Conv2D)             (None, 48, 48, 64)   110656      ['concatenate[0][0]']            \n",
            "                                                                                                  \n",
            " batch_normalization_10 (BatchN  (None, 48, 48, 64)  256         ['conv2d_10[0][0]']              \n",
            " ormalization)                                                                                    \n",
            "                                                                                                  \n",
            " activation_10 (Activation)     (None, 48, 48, 64)   0           ['batch_normalization_10[0][0]'] \n",
            "                                                                                                  \n",
            " conv2d_11 (Conv2D)             (None, 48, 48, 64)   36928       ['activation_10[0][0]']          \n",
            "                                                                                                  \n",
            " batch_normalization_11 (BatchN  (None, 48, 48, 64)  256         ['conv2d_11[0][0]']              \n",
            " ormalization)                                                                                    \n",
            "                                                                                                  \n",
            " activation_11 (Activation)     (None, 48, 48, 64)   0           ['batch_normalization_11[0][0]'] \n",
            "                                                                                                  \n",
            " up_sampling2d_1 (UpSampling2D)  (None, 96, 96, 64)  0           ['activation_11[0][0]']          \n",
            "                                                                                                  \n",
            " concatenate_1 (Concatenate)    (None, 96, 96, 112)  0           ['up_sampling2d_1[0][0]',        \n",
            "                                                                  'activation_5[0][0]']           \n",
            "                                                                                                  \n",
            " conv2d_12 (Conv2D)             (None, 96, 96, 48)   48432       ['concatenate_1[0][0]']          \n",
            "                                                                                                  \n",
            " batch_normalization_12 (BatchN  (None, 96, 96, 48)  192         ['conv2d_12[0][0]']              \n",
            " ormalization)                                                                                    \n",
            "                                                                                                  \n",
            " activation_12 (Activation)     (None, 96, 96, 48)   0           ['batch_normalization_12[0][0]'] \n",
            "                                                                                                  \n",
            " conv2d_13 (Conv2D)             (None, 96, 96, 48)   20784       ['activation_12[0][0]']          \n",
            "                                                                                                  \n",
            " batch_normalization_13 (BatchN  (None, 96, 96, 48)  192         ['conv2d_13[0][0]']              \n",
            " ormalization)                                                                                    \n",
            "                                                                                                  \n",
            " activation_13 (Activation)     (None, 96, 96, 48)   0           ['batch_normalization_13[0][0]'] \n",
            "                                                                                                  \n",
            " up_sampling2d_2 (UpSampling2D)  (None, 192, 192, 48  0          ['activation_13[0][0]']          \n",
            "                                )                                                                 \n",
            "                                                                                                  \n",
            " concatenate_2 (Concatenate)    (None, 192, 192, 80  0           ['up_sampling2d_2[0][0]',        \n",
            "                                )                                 'activation_3[0][0]']           \n",
            "                                                                                                  \n",
            " conv2d_14 (Conv2D)             (None, 192, 192, 32  23072       ['concatenate_2[0][0]']          \n",
            "                                )                                                                 \n",
            "                                                                                                  \n",
            " batch_normalization_14 (BatchN  (None, 192, 192, 32  128        ['conv2d_14[0][0]']              \n",
            " ormalization)                  )                                                                 \n",
            "                                                                                                  \n",
            " activation_14 (Activation)     (None, 192, 192, 32  0           ['batch_normalization_14[0][0]'] \n",
            "                                )                                                                 \n",
            "                                                                                                  \n",
            " conv2d_15 (Conv2D)             (None, 192, 192, 32  9248        ['activation_14[0][0]']          \n",
            "                                )                                                                 \n",
            "                                                                                                  \n",
            " batch_normalization_15 (BatchN  (None, 192, 192, 32  128        ['conv2d_15[0][0]']              \n",
            " ormalization)                  )                                                                 \n",
            "                                                                                                  \n",
            " activation_15 (Activation)     (None, 192, 192, 32  0           ['batch_normalization_15[0][0]'] \n",
            "                                )                                                                 \n",
            "                                                                                                  \n",
            " up_sampling2d_3 (UpSampling2D)  (None, 384, 384, 32  0          ['activation_15[0][0]']          \n",
            "                                )                                                                 \n",
            "                                                                                                  \n",
            " concatenate_3 (Concatenate)    (None, 384, 384, 48  0           ['up_sampling2d_3[0][0]',        \n",
            "                                )                                 'activation_1[0][0]']           \n",
            "                                                                                                  \n",
            " conv2d_16 (Conv2D)             (None, 384, 384, 16  6928        ['concatenate_3[0][0]']          \n",
            "                                )                                                                 \n",
            "                                                                                                  \n",
            " batch_normalization_16 (BatchN  (None, 384, 384, 16  64         ['conv2d_16[0][0]']              \n",
            " ormalization)                  )                                                                 \n",
            "                                                                                                  \n",
            " activation_16 (Activation)     (None, 384, 384, 16  0           ['batch_normalization_16[0][0]'] \n",
            "                                )                                                                 \n",
            "                                                                                                  \n",
            " conv2d_17 (Conv2D)             (None, 384, 384, 16  2320        ['activation_16[0][0]']          \n",
            "                                )                                                                 \n",
            "                                                                                                  \n",
            " batch_normalization_17 (BatchN  (None, 384, 384, 16  64         ['conv2d_17[0][0]']              \n",
            " ormalization)                  )                                                                 \n",
            "                                                                                                  \n",
            " activation_17 (Activation)     (None, 384, 384, 16  0           ['batch_normalization_17[0][0]'] \n",
            "                                )                                                                 \n",
            "                                                                                                  \n",
            " conv2d_18 (Conv2D)             (None, 384, 384, 3)  51          ['activation_17[0][0]']          \n",
            "                                                                                                  \n",
            "==================================================================================================\n",
            "Total params: 599,395\n",
            "Trainable params: 597,603\n",
            "Non-trainable params: 1,792\n",
            "__________________________________________________________________________________________________\n"
          ]
        }
      ]
    },
    {
      "cell_type": "code",
      "source": [
        "import os\n",
        "import numpy as np\n",
        "import tensorflow as tf\n",
        "from tensorflow.keras.callbacks import ModelCheckpoint, ReduceLROnPlateau, EarlyStopping\n",
        "\n",
        "\n",
        "shape = (384, 384, 3)\n",
        "num_classes = 3\n",
        "lr = 1e-5\n",
        "batch_size = 8\n",
        "epochs = 50\n",
        "\n",
        "\n",
        "model = build_unet(shape, num_classes)\n",
        "model.compile(loss=\"categorical_crossentropy\", optimizer=tf.keras.optimizers.Adam(lr))\n",
        "\n",
        "train_dataset = tf_dataset(train_x, train_y, batch=batch_size)\n",
        "valid_dataset = tf_dataset(valid_x, valid_y, batch=batch_size)\n",
        "\n",
        "train_steps = len(train_x)//batch_size\n",
        "valid_steps = len(valid_x)//batch_size\n",
        "\n",
        "callbacks = [\n",
        "    ModelCheckpoint(\"model3.h5\", verbose=1, save_best_model=True),\n",
        "    ReduceLROnPlateau(monitor=\"val_loss\", patience=3, factor=0.1, verbose=1, min_lr=1e-6),\n",
        "    EarlyStopping(monitor=\"val_loss\", patience=5, verbose=1)\n",
        "]\n",
        "\n",
        "model.fit(train_dataset,\n",
        "    steps_per_epoch=train_steps,\n",
        "    validation_data=valid_dataset,\n",
        "    validation_steps=valid_steps,\n",
        "    epochs=epochs,\n",
        "    callbacks=callbacks\n",
        ")"
      ],
      "metadata": {
        "colab": {
          "base_uri": "https://localhost:8080/"
        },
        "id": "LUhxc_9Kaf1W",
        "outputId": "3464eaf5-7933-47d6-a469-eb3b4eb5f835"
      },
      "execution_count": 16,
      "outputs": [
        {
          "output_type": "stream",
          "name": "stdout",
          "text": [
            "Epoch 1/50\n",
            "12/12 [==============================] - ETA: 0s - loss: 1.2408\n",
            "Epoch 1: saving model to model3.h5\n",
            "12/12 [==============================] - 16s 271ms/step - loss: 1.2408 - val_loss: 1.1038 - lr: 1.0000e-05\n",
            "Epoch 2/50\n",
            "12/12 [==============================] - ETA: 0s - loss: 1.1553\n",
            "Epoch 2: saving model to model3.h5\n",
            "12/12 [==============================] - 3s 239ms/step - loss: 1.1553 - val_loss: 1.1032 - lr: 1.0000e-05\n",
            "Epoch 3/50\n",
            "12/12 [==============================] - ETA: 0s - loss: 1.0878\n",
            "Epoch 3: saving model to model3.h5\n",
            "12/12 [==============================] - 2s 205ms/step - loss: 1.0878 - val_loss: 1.0981 - lr: 1.0000e-05\n",
            "Epoch 4/50\n",
            "12/12 [==============================] - ETA: 0s - loss: 1.0315\n",
            "Epoch 4: saving model to model3.h5\n",
            "12/12 [==============================] - 2s 204ms/step - loss: 1.0315 - val_loss: 1.0853 - lr: 1.0000e-05\n",
            "Epoch 5/50\n",
            "12/12 [==============================] - ETA: 0s - loss: 0.9891\n",
            "Epoch 5: saving model to model3.h5\n",
            "12/12 [==============================] - 2s 208ms/step - loss: 0.9891 - val_loss: 1.0640 - lr: 1.0000e-05\n",
            "Epoch 6/50\n",
            "12/12 [==============================] - ETA: 0s - loss: 0.9542\n",
            "Epoch 6: saving model to model3.h5\n",
            "12/12 [==============================] - 3s 223ms/step - loss: 0.9542 - val_loss: 1.0312 - lr: 1.0000e-05\n",
            "Epoch 7/50\n",
            "12/12 [==============================] - ETA: 0s - loss: 0.9224\n",
            "Epoch 7: saving model to model3.h5\n",
            "12/12 [==============================] - 3s 235ms/step - loss: 0.9224 - val_loss: 0.9927 - lr: 1.0000e-05\n",
            "Epoch 8/50\n",
            "12/12 [==============================] - ETA: 0s - loss: 0.8972\n",
            "Epoch 8: saving model to model3.h5\n",
            "12/12 [==============================] - 3s 217ms/step - loss: 0.8972 - val_loss: 0.9682 - lr: 1.0000e-05\n",
            "Epoch 9/50\n",
            "12/12 [==============================] - ETA: 0s - loss: 0.8708\n",
            "Epoch 9: saving model to model3.h5\n",
            "12/12 [==============================] - 2s 209ms/step - loss: 0.8708 - val_loss: 0.9341 - lr: 1.0000e-05\n",
            "Epoch 10/50\n",
            "12/12 [==============================] - ETA: 0s - loss: 0.8498\n",
            "Epoch 10: saving model to model3.h5\n",
            "12/12 [==============================] - 2s 210ms/step - loss: 0.8498 - val_loss: 0.9174 - lr: 1.0000e-05\n",
            "Epoch 11/50\n",
            "12/12 [==============================] - ETA: 0s - loss: 0.8274\n",
            "Epoch 11: saving model to model3.h5\n",
            "12/12 [==============================] - 2s 206ms/step - loss: 0.8274 - val_loss: 0.8796 - lr: 1.0000e-05\n",
            "Epoch 12/50\n",
            "12/12 [==============================] - ETA: 0s - loss: 0.8066\n",
            "Epoch 12: saving model to model3.h5\n",
            "12/12 [==============================] - 3s 236ms/step - loss: 0.8066 - val_loss: 0.8732 - lr: 1.0000e-05\n",
            "Epoch 13/50\n",
            "12/12 [==============================] - ETA: 0s - loss: 0.7906\n",
            "Epoch 13: saving model to model3.h5\n",
            "12/12 [==============================] - 3s 221ms/step - loss: 0.7906 - val_loss: 0.8580 - lr: 1.0000e-05\n",
            "Epoch 14/50\n",
            "12/12 [==============================] - ETA: 0s - loss: 0.7736\n",
            "Epoch 14: saving model to model3.h5\n",
            "12/12 [==============================] - 3s 222ms/step - loss: 0.7736 - val_loss: 0.8444 - lr: 1.0000e-05\n",
            "Epoch 15/50\n",
            "12/12 [==============================] - ETA: 0s - loss: 0.7565\n",
            "Epoch 15: saving model to model3.h5\n",
            "12/12 [==============================] - 3s 224ms/step - loss: 0.7565 - val_loss: 0.8227 - lr: 1.0000e-05\n",
            "Epoch 16/50\n",
            "12/12 [==============================] - ETA: 0s - loss: 0.7429\n",
            "Epoch 16: saving model to model3.h5\n",
            "12/12 [==============================] - 3s 213ms/step - loss: 0.7429 - val_loss: 0.7905 - lr: 1.0000e-05\n",
            "Epoch 17/50\n",
            "12/12 [==============================] - ETA: 0s - loss: 0.7260\n",
            "Epoch 17: saving model to model3.h5\n",
            "12/12 [==============================] - 3s 229ms/step - loss: 0.7260 - val_loss: 0.7784 - lr: 1.0000e-05\n",
            "Epoch 18/50\n",
            "12/12 [==============================] - ETA: 0s - loss: 0.7137\n",
            "Epoch 18: saving model to model3.h5\n",
            "12/12 [==============================] - 3s 267ms/step - loss: 0.7137 - val_loss: 0.7552 - lr: 1.0000e-05\n",
            "Epoch 19/50\n",
            "12/12 [==============================] - ETA: 0s - loss: 0.6981\n",
            "Epoch 19: saving model to model3.h5\n",
            "12/12 [==============================] - 3s 222ms/step - loss: 0.6981 - val_loss: 0.7543 - lr: 1.0000e-05\n",
            "Epoch 20/50\n",
            "12/12 [==============================] - ETA: 0s - loss: 0.6873\n",
            "Epoch 20: saving model to model3.h5\n",
            "12/12 [==============================] - 3s 224ms/step - loss: 0.6873 - val_loss: 0.7231 - lr: 1.0000e-05\n",
            "Epoch 21/50\n",
            "12/12 [==============================] - ETA: 0s - loss: 0.6723\n",
            "Epoch 21: saving model to model3.h5\n",
            "12/12 [==============================] - 2s 210ms/step - loss: 0.6723 - val_loss: 0.7184 - lr: 1.0000e-05\n",
            "Epoch 22/50\n",
            "12/12 [==============================] - ETA: 0s - loss: 0.6664\n",
            "Epoch 22: saving model to model3.h5\n",
            "12/12 [==============================] - 3s 230ms/step - loss: 0.6664 - val_loss: 0.6948 - lr: 1.0000e-05\n",
            "Epoch 23/50\n",
            "12/12 [==============================] - ETA: 0s - loss: 0.6562\n",
            "Epoch 23: saving model to model3.h5\n",
            "12/12 [==============================] - 3s 241ms/step - loss: 0.6562 - val_loss: 0.6896 - lr: 1.0000e-05\n",
            "Epoch 24/50\n",
            "12/12 [==============================] - ETA: 0s - loss: 0.6438\n",
            "Epoch 24: saving model to model3.h5\n",
            "12/12 [==============================] - 2s 209ms/step - loss: 0.6438 - val_loss: 0.6781 - lr: 1.0000e-05\n",
            "Epoch 25/50\n",
            "12/12 [==============================] - ETA: 0s - loss: 0.6349\n",
            "Epoch 25: saving model to model3.h5\n",
            "12/12 [==============================] - 3s 213ms/step - loss: 0.6349 - val_loss: 0.6723 - lr: 1.0000e-05\n",
            "Epoch 26/50\n",
            "12/12 [==============================] - ETA: 0s - loss: 0.6223\n",
            "Epoch 26: saving model to model3.h5\n",
            "12/12 [==============================] - 2s 209ms/step - loss: 0.6223 - val_loss: 0.6663 - lr: 1.0000e-05\n",
            "Epoch 27/50\n",
            "12/12 [==============================] - ETA: 0s - loss: 0.6189\n",
            "Epoch 27: saving model to model3.h5\n",
            "12/12 [==============================] - 2s 208ms/step - loss: 0.6189 - val_loss: 0.6575 - lr: 1.0000e-05\n",
            "Epoch 28/50\n",
            "12/12 [==============================] - ETA: 0s - loss: 0.6067\n",
            "Epoch 28: saving model to model3.h5\n",
            "12/12 [==============================] - 3s 241ms/step - loss: 0.6067 - val_loss: 0.6640 - lr: 1.0000e-05\n",
            "Epoch 29/50\n",
            "12/12 [==============================] - ETA: 0s - loss: 0.6038\n",
            "Epoch 29: saving model to model3.h5\n",
            "12/12 [==============================] - 3s 227ms/step - loss: 0.6038 - val_loss: 0.6585 - lr: 1.0000e-05\n",
            "Epoch 30/50\n",
            "12/12 [==============================] - ETA: 0s - loss: 0.5942\n",
            "Epoch 30: saving model to model3.h5\n",
            "12/12 [==============================] - 2s 206ms/step - loss: 0.5942 - val_loss: 0.6494 - lr: 1.0000e-05\n",
            "Epoch 31/50\n",
            "12/12 [==============================] - ETA: 0s - loss: 0.5892\n",
            "Epoch 31: saving model to model3.h5\n",
            "12/12 [==============================] - 2s 207ms/step - loss: 0.5892 - val_loss: 0.6456 - lr: 1.0000e-05\n",
            "Epoch 32/50\n",
            "12/12 [==============================] - ETA: 0s - loss: 0.5826\n",
            "Epoch 32: saving model to model3.h5\n",
            "12/12 [==============================] - 2s 206ms/step - loss: 0.5826 - val_loss: 0.6417 - lr: 1.0000e-05\n",
            "Epoch 33/50\n",
            "12/12 [==============================] - ETA: 0s - loss: 0.5706\n",
            "Epoch 33: saving model to model3.h5\n",
            "12/12 [==============================] - 3s 238ms/step - loss: 0.5706 - val_loss: 0.6260 - lr: 1.0000e-05\n",
            "Epoch 34/50\n",
            "12/12 [==============================] - ETA: 0s - loss: 0.5691\n",
            "Epoch 34: saving model to model3.h5\n",
            "12/12 [==============================] - 3s 214ms/step - loss: 0.5691 - val_loss: 0.6279 - lr: 1.0000e-05\n",
            "Epoch 35/50\n",
            "12/12 [==============================] - ETA: 0s - loss: 0.5638\n",
            "Epoch 35: saving model to model3.h5\n",
            "12/12 [==============================] - 2s 206ms/step - loss: 0.5638 - val_loss: 0.6156 - lr: 1.0000e-05\n",
            "Epoch 36/50\n",
            "12/12 [==============================] - ETA: 0s - loss: 0.5556\n",
            "Epoch 36: saving model to model3.h5\n",
            "12/12 [==============================] - 2s 210ms/step - loss: 0.5556 - val_loss: 0.6256 - lr: 1.0000e-05\n",
            "Epoch 37/50\n",
            "12/12 [==============================] - ETA: 0s - loss: 0.5500\n",
            "Epoch 37: saving model to model3.h5\n",
            "12/12 [==============================] - 2s 211ms/step - loss: 0.5500 - val_loss: 0.6147 - lr: 1.0000e-05\n",
            "Epoch 38/50\n",
            "12/12 [==============================] - ETA: 0s - loss: 0.5479\n",
            "Epoch 38: saving model to model3.h5\n",
            "12/12 [==============================] - 3s 219ms/step - loss: 0.5479 - val_loss: 0.6298 - lr: 1.0000e-05\n",
            "Epoch 39/50\n",
            "12/12 [==============================] - ETA: 0s - loss: 0.5398\n",
            "Epoch 39: saving model to model3.h5\n",
            "12/12 [==============================] - 3s 237ms/step - loss: 0.5398 - val_loss: 0.6188 - lr: 1.0000e-05\n",
            "Epoch 40/50\n",
            "12/12 [==============================] - ETA: 0s - loss: 0.5405\n",
            "Epoch 40: saving model to model3.h5\n",
            "\n",
            "Epoch 40: ReduceLROnPlateau reducing learning rate to 1e-06.\n",
            "12/12 [==============================] - 2s 211ms/step - loss: 0.5405 - val_loss: 0.6243 - lr: 1.0000e-05\n",
            "Epoch 41/50\n",
            "12/12 [==============================] - ETA: 0s - loss: 0.5405\n",
            "Epoch 41: saving model to model3.h5\n",
            "12/12 [==============================] - 3s 222ms/step - loss: 0.5405 - val_loss: 0.5987 - lr: 1.0000e-06\n",
            "Epoch 42/50\n",
            "12/12 [==============================] - ETA: 0s - loss: 0.5329\n",
            "Epoch 42: saving model to model3.h5\n",
            "12/12 [==============================] - 2s 207ms/step - loss: 0.5329 - val_loss: 0.5962 - lr: 1.0000e-06\n",
            "Epoch 43/50\n",
            "12/12 [==============================] - ETA: 0s - loss: 0.5353\n",
            "Epoch 43: saving model to model3.h5\n",
            "12/12 [==============================] - 3s 222ms/step - loss: 0.5353 - val_loss: 0.6207 - lr: 1.0000e-06\n",
            "Epoch 44/50\n",
            "12/12 [==============================] - ETA: 0s - loss: 0.5318\n",
            "Epoch 44: saving model to model3.h5\n",
            "12/12 [==============================] - 3s 239ms/step - loss: 0.5318 - val_loss: 0.6144 - lr: 1.0000e-06\n",
            "Epoch 45/50\n",
            "12/12 [==============================] - ETA: 0s - loss: 0.5324\n",
            "Epoch 45: saving model to model3.h5\n",
            "12/12 [==============================] - 3s 216ms/step - loss: 0.5324 - val_loss: 0.5808 - lr: 1.0000e-06\n",
            "Epoch 46/50\n",
            "12/12 [==============================] - ETA: 0s - loss: 0.5363\n",
            "Epoch 46: saving model to model3.h5\n",
            "12/12 [==============================] - 2s 211ms/step - loss: 0.5363 - val_loss: 0.5687 - lr: 1.0000e-06\n",
            "Epoch 47/50\n",
            "12/12 [==============================] - ETA: 0s - loss: 0.5355\n",
            "Epoch 47: saving model to model3.h5\n",
            "12/12 [==============================] - 3s 223ms/step - loss: 0.5355 - val_loss: 0.5711 - lr: 1.0000e-06\n",
            "Epoch 48/50\n",
            "12/12 [==============================] - ETA: 0s - loss: 0.5338\n",
            "Epoch 48: saving model to model3.h5\n",
            "12/12 [==============================] - 2s 211ms/step - loss: 0.5338 - val_loss: 0.5636 - lr: 1.0000e-06\n",
            "Epoch 49/50\n",
            "12/12 [==============================] - ETA: 0s - loss: 0.5282\n",
            "Epoch 49: saving model to model3.h5\n",
            "12/12 [==============================] - 3s 237ms/step - loss: 0.5282 - val_loss: 0.5685 - lr: 1.0000e-06\n",
            "Epoch 50/50\n",
            "12/12 [==============================] - ETA: 0s - loss: 0.5347\n",
            "Epoch 50: saving model to model3.h5\n",
            "12/12 [==============================] - 3s 229ms/step - loss: 0.5347 - val_loss: 0.5685 - lr: 1.0000e-06\n"
          ]
        },
        {
          "output_type": "execute_result",
          "data": {
            "text/plain": [
              "<keras.callbacks.History at 0x7ea2c9bee4a0>"
            ]
          },
          "metadata": {},
          "execution_count": 16
        }
      ]
    },
    {
      "cell_type": "code",
      "source": [
        "import os\n",
        "import numpy as np\n",
        "import tensorflow as tf\n",
        "from tqdm import tqdm\n",
        "import cv2\n",
        "\n",
        "\n",
        "H = 384\n",
        "W = 384\n",
        "num_classes = 3"
      ],
      "metadata": {
        "id": "Xq9OseAOz1z9"
      },
      "execution_count": 17,
      "outputs": []
    },
    {
      "cell_type": "code",
      "source": [
        "model = tf.keras.models.load_model(\"/content/model3.h5\")"
      ],
      "metadata": {
        "id": "0cC1vjEWDLun"
      },
      "execution_count": 18,
      "outputs": []
    },
    {
      "cell_type": "code",
      "source": [
        "for x, y in tqdm(zip(test_x, test_y), total=len(test_x)):\n",
        "  name = x.split(\"/\")[-1]\n",
        "  x = cv2.imread(x, cv2.IMREAD_COLOR)\n",
        "  x = cv2.resize(x, (W, H))\n",
        "  x = x / 255.0\n",
        "  x = x.astype(np.float32)\n",
        "\n",
        "  y = cv2.imread(y, cv2.IMREAD_GRAYSCALE)\n",
        "  y = cv2.resize(y, (W, H))   ## (384, 384)\n",
        "  y[y==255]=1 # blue: class label: 1\n",
        "  y[y==125]=2 # brown: class label: 2\n",
        "  y = np.expand_dims(y, axis=-1) ## (384, 384, 1)\n",
        "  y = y * (255/num_classes)\n",
        "  y = y.astype(np.int32)\n",
        "  y = np.concatenate([y, y, y], axis=2)\n",
        "\n",
        "  p = model.predict(np.expand_dims(x, axis=0))[0]\n",
        "\n",
        "  h, w, _ = x.shape\n",
        "  line = np.ones((h, 10, 3)) * 255\n",
        "\n",
        "  print(x.shape, line.shape, y.shape, line.shape, p.shape)\n",
        "  print(np.unique(p))\n",
        "\n",
        "\n",
        "\n",
        "\n",
        "  final_image = np.concatenate([x, line, y, line, p], axis=1)\n",
        "  plt.imshow(final_image)"
      ],
      "metadata": {
        "colab": {
          "base_uri": "https://localhost:8080/",
          "height": 1000
        },
        "id": "qx6UhFY7DO6k",
        "outputId": "7ae5e45b-cede-4575-837f-b644eb8e41d9"
      },
      "execution_count": 19,
      "outputs": [
        {
          "output_type": "stream",
          "name": "stderr",
          "text": [
            "\r  0%|          | 0/12 [00:00<?, ?it/s]"
          ]
        },
        {
          "output_type": "stream",
          "name": "stdout",
          "text": [
            "1/1 [==============================] - 1s 1s/step\n"
          ]
        },
        {
          "output_type": "stream",
          "name": "stderr",
          "text": [
            "WARNING:matplotlib.image:Clipping input data to the valid range for imshow with RGB data ([0..1] for floats or [0..255] for integers).\n",
            "  8%|▊         | 1/12 [00:02<00:26,  2.42s/it]"
          ]
        },
        {
          "output_type": "stream",
          "name": "stdout",
          "text": [
            "(384, 384, 3) (384, 10, 3) (384, 384, 3) (384, 10, 3) (384, 384, 3)\n",
            "[6.6048108e-07 7.3168832e-07 7.6890484e-07 ... 9.6629322e-01 9.6905142e-01\n",
            " 9.7357064e-01]\n",
            "1/1 [==============================] - 0s 27ms/step\n"
          ]
        },
        {
          "output_type": "stream",
          "name": "stderr",
          "text": [
            "WARNING:matplotlib.image:Clipping input data to the valid range for imshow with RGB data ([0..1] for floats or [0..255] for integers).\n",
            " 17%|█▋        | 2/12 [00:02<00:13,  1.32s/it]"
          ]
        },
        {
          "output_type": "stream",
          "name": "stdout",
          "text": [
            "(384, 384, 3) (384, 10, 3) (384, 384, 3) (384, 10, 3) (384, 384, 3)\n",
            "[1.2708755e-06 1.4902884e-06 1.4938847e-06 ... 9.7522062e-01 9.7812563e-01\n",
            " 9.7824281e-01]\n",
            "1/1 [==============================] - 0s 22ms/step\n"
          ]
        },
        {
          "output_type": "stream",
          "name": "stderr",
          "text": [
            "WARNING:matplotlib.image:Clipping input data to the valid range for imshow with RGB data ([0..1] for floats or [0..255] for integers).\n",
            " 25%|██▌       | 3/12 [00:03<00:08,  1.06it/s]"
          ]
        },
        {
          "output_type": "stream",
          "name": "stdout",
          "text": [
            "(384, 384, 3) (384, 10, 3) (384, 384, 3) (384, 10, 3) (384, 384, 3)\n",
            "[2.8550444e-09 3.5114089e-09 3.7575552e-09 ... 9.8597091e-01 9.8597997e-01\n",
            " 9.8658192e-01]\n",
            "1/1 [==============================] - 0s 21ms/step\n"
          ]
        },
        {
          "output_type": "stream",
          "name": "stderr",
          "text": [
            "WARNING:matplotlib.image:Clipping input data to the valid range for imshow with RGB data ([0..1] for floats or [0..255] for integers).\n",
            " 33%|███▎      | 4/12 [00:04<00:06,  1.27it/s]"
          ]
        },
        {
          "output_type": "stream",
          "name": "stdout",
          "text": [
            "(384, 384, 3) (384, 10, 3) (384, 384, 3) (384, 10, 3) (384, 384, 3)\n",
            "[2.2048634e-07 2.2476509e-07 2.3307503e-07 ... 9.7629625e-01 9.7853357e-01\n",
            " 9.7957373e-01]\n",
            "1/1 [==============================] - 0s 21ms/step\n"
          ]
        },
        {
          "output_type": "stream",
          "name": "stderr",
          "text": [
            "WARNING:matplotlib.image:Clipping input data to the valid range for imshow with RGB data ([0..1] for floats or [0..255] for integers).\n",
            " 42%|████▏     | 5/12 [00:04<00:04,  1.44it/s]"
          ]
        },
        {
          "output_type": "stream",
          "name": "stdout",
          "text": [
            "(384, 384, 3) (384, 10, 3) (384, 384, 3) (384, 10, 3) (384, 384, 3)\n",
            "[1.0412173e-06 1.2667213e-06 1.5316127e-06 ... 9.9243814e-01 9.9254239e-01\n",
            " 9.9338347e-01]\n",
            "1/1 [==============================] - 0s 23ms/step\n"
          ]
        },
        {
          "output_type": "stream",
          "name": "stderr",
          "text": [
            "WARNING:matplotlib.image:Clipping input data to the valid range for imshow with RGB data ([0..1] for floats or [0..255] for integers).\n",
            " 50%|█████     | 6/12 [00:05<00:03,  1.56it/s]"
          ]
        },
        {
          "output_type": "stream",
          "name": "stdout",
          "text": [
            "(384, 384, 3) (384, 10, 3) (384, 384, 3) (384, 10, 3) (384, 384, 3)\n",
            "[8.4197927e-07 8.7077689e-07 8.7282490e-07 ... 9.8877829e-01 9.8950642e-01\n",
            " 9.9073035e-01]\n",
            "1/1 [==============================] - 0s 21ms/step\n"
          ]
        },
        {
          "output_type": "stream",
          "name": "stderr",
          "text": [
            "WARNING:matplotlib.image:Clipping input data to the valid range for imshow with RGB data ([0..1] for floats or [0..255] for integers).\n",
            " 58%|█████▊    | 7/12 [00:05<00:03,  1.64it/s]"
          ]
        },
        {
          "output_type": "stream",
          "name": "stdout",
          "text": [
            "(384, 384, 3) (384, 10, 3) (384, 384, 3) (384, 10, 3) (384, 384, 3)\n",
            "[4.1735635e-08 6.0063037e-08 6.1441170e-08 ... 9.9559790e-01 9.9563867e-01\n",
            " 9.9611014e-01]\n",
            "1/1 [==============================] - 0s 21ms/step\n"
          ]
        },
        {
          "output_type": "stream",
          "name": "stderr",
          "text": [
            "WARNING:matplotlib.image:Clipping input data to the valid range for imshow with RGB data ([0..1] for floats or [0..255] for integers).\n",
            " 67%|██████▋   | 8/12 [00:06<00:02,  1.73it/s]"
          ]
        },
        {
          "output_type": "stream",
          "name": "stdout",
          "text": [
            "(384, 384, 3) (384, 10, 3) (384, 384, 3) (384, 10, 3) (384, 384, 3)\n",
            "[4.7964772e-06 5.5961973e-06 8.7934040e-06 ... 9.8540628e-01 9.8554593e-01\n",
            " 9.8712349e-01]\n",
            "1/1 [==============================] - 0s 21ms/step\n"
          ]
        },
        {
          "output_type": "stream",
          "name": "stderr",
          "text": [
            "WARNING:matplotlib.image:Clipping input data to the valid range for imshow with RGB data ([0..1] for floats or [0..255] for integers).\n",
            " 75%|███████▌  | 9/12 [00:06<00:01,  1.74it/s]"
          ]
        },
        {
          "output_type": "stream",
          "name": "stdout",
          "text": [
            "(384, 384, 3) (384, 10, 3) (384, 384, 3) (384, 10, 3) (384, 384, 3)\n",
            "[3.2959960e-07 3.4092005e-07 4.0202531e-07 ... 9.8628831e-01 9.8797184e-01\n",
            " 9.8865032e-01]\n",
            "1/1 [==============================] - 0s 22ms/step\n"
          ]
        },
        {
          "output_type": "stream",
          "name": "stderr",
          "text": [
            "WARNING:matplotlib.image:Clipping input data to the valid range for imshow with RGB data ([0..1] for floats or [0..255] for integers).\n",
            " 83%|████████▎ | 10/12 [00:07<00:01,  1.78it/s]"
          ]
        },
        {
          "output_type": "stream",
          "name": "stdout",
          "text": [
            "(384, 384, 3) (384, 10, 3) (384, 384, 3) (384, 10, 3) (384, 384, 3)\n",
            "[6.3980215e-06 6.8460954e-06 6.8932040e-06 ... 9.8024791e-01 9.8034370e-01\n",
            " 9.8363757e-01]\n",
            "1/1 [==============================] - 0s 21ms/step\n"
          ]
        },
        {
          "output_type": "stream",
          "name": "stderr",
          "text": [
            "WARNING:matplotlib.image:Clipping input data to the valid range for imshow with RGB data ([0..1] for floats or [0..255] for integers).\n",
            " 92%|█████████▏| 11/12 [00:07<00:00,  1.83it/s]"
          ]
        },
        {
          "output_type": "stream",
          "name": "stdout",
          "text": [
            "(384, 384, 3) (384, 10, 3) (384, 384, 3) (384, 10, 3) (384, 384, 3)\n",
            "[2.9982495e-08 3.0612924e-08 3.3262715e-08 ... 9.8907030e-01 9.8917425e-01\n",
            " 9.8964256e-01]\n",
            "1/1 [==============================] - 0s 20ms/step\n"
          ]
        },
        {
          "output_type": "stream",
          "name": "stderr",
          "text": [
            "WARNING:matplotlib.image:Clipping input data to the valid range for imshow with RGB data ([0..1] for floats or [0..255] for integers).\n",
            "100%|██████████| 12/12 [00:08<00:00,  1.46it/s]"
          ]
        },
        {
          "output_type": "stream",
          "name": "stdout",
          "text": [
            "(384, 384, 3) (384, 10, 3) (384, 384, 3) (384, 10, 3) (384, 384, 3)\n",
            "[3.0165873e-05 3.1278403e-05 3.5042391e-05 ... 9.7420925e-01 9.7503328e-01\n",
            " 9.7542477e-01]\n"
          ]
        },
        {
          "output_type": "stream",
          "name": "stderr",
          "text": [
            "\n"
          ]
        },
        {
          "output_type": "display_data",
          "data": {
            "text/plain": [
              "<Figure size 640x480 with 1 Axes>"
            ],
            "image/png": "[encoded data removed]"
          },
          "metadata": {}
        }
      ]
    },
    {
      "cell_type": "code",
      "source": [],
      "metadata": {
        "id": "99Sn6weXDRxp"
      },
      "execution_count": null,
      "outputs": []
    }
  ]
}